{
 "cells": [
  {
   "cell_type": "code",
   "execution_count": 1,
   "metadata": {},
   "outputs": [],
   "source": [
    "import requests\n",
    "import bs4"
   ]
  },
  {
   "cell_type": "code",
   "execution_count": 3,
   "metadata": {},
   "outputs": [],
   "source": [
    "# \n",
    "\n",
    "response = requests.get('https://web-scraping-demo.zgulde.net/news')\n",
    "html = response.text\n",
    "soup = bs4.BeautifulSoup(html)"
   ]
  },
  {
   "cell_type": "markdown",
   "metadata": {},
   "source": [
    "## 1. Find the container for the information we want `article_container`\n",
    "## 2. Within the container, id the entities that we went to produce a list\n",
    "## 3. Process each individual entity (id the pieces we want and )"
   ]
  },
  {
   "cell_type": "code",
   "execution_count": 4,
   "metadata": {},
   "outputs": [],
   "source": [
    "article_container = soup.select('.grid.gap-y-12')[0]"
   ]
  },
  {
   "cell_type": "code",
   "execution_count": 5,
   "metadata": {},
   "outputs": [],
   "source": [
    "#articles = article_container.children"
   ]
  },
  {
   "cell_type": "code",
   "execution_count": 8,
   "metadata": {},
   "outputs": [
    {
     "data": {
      "text/plain": [
       "12"
      ]
     },
     "execution_count": 8,
     "metadata": {},
     "output_type": "execute_result"
    }
   ],
   "source": [
    "len(article_container.select('.grid.grid-cols-4.gap-x-4.border'))"
   ]
  },
  {
   "cell_type": "code",
   "execution_count": 9,
   "metadata": {},
   "outputs": [],
   "source": [
    "articles = article_container.select('.grid.grid-cols-4.gap-x-4.border')"
   ]
  },
  {
   "cell_type": "code",
   "execution_count": 10,
   "metadata": {},
   "outputs": [
    {
     "name": "stdout",
     "output_type": "stream",
     "text": [
      "<div class=\"grid grid-cols-4 gap-x-4 border rounded pr-3 bg-green-50 hover:shadow-lg transition duration-500\">\n",
      " <img src=\"/static/placeholder.png\"/>\n",
      " <div class=\"col-span-3 space-y-3 py-3\">\n",
      "  <h2 class=\"text-2xl text-green-900\">\n",
      "   century eight if\n",
      "  </h2>\n",
      "  <div class=\"grid grid-cols-2 italic\">\n",
      "   <p>\n",
      "    1991-02-12\n",
      "   </p>\n",
      "   <p class=\"text-right\">\n",
      "    By Tiffany York\n",
      "   </p>\n",
      "  </div>\n",
      "  <p>\n",
      "   Time else put amount. Window them decade bit.\n",
      "Hit form perform. Forget indicate now picture. Among like spring style rather popular.\n",
      "  </p>\n",
      " </div>\n",
      "</div>\n",
      "\n"
     ]
    }
   ],
   "source": [
    "article = articles[0]\n",
    "print(article.prettify())"
   ]
  },
  {
   "cell_type": "code",
   "execution_count": 11,
   "metadata": {},
   "outputs": [
    {
     "data": {
      "text/plain": [
       "'century eight if'"
      ]
     },
     "execution_count": 11,
     "metadata": {},
     "output_type": "execute_result"
    }
   ],
   "source": [
    "article.find('h2').text"
   ]
  },
  {
   "cell_type": "code",
   "execution_count": 12,
   "metadata": {},
   "outputs": [],
   "source": [
    "title = article.find('h2').text"
   ]
  },
  {
   "cell_type": "code",
   "execution_count": 19,
   "metadata": {},
   "outputs": [
    {
     "data": {
      "text/plain": [
       "<div class=\"grid grid-cols-2 italic\">\n",
       "<p> 1991-02-12 </p>\n",
       "<p class=\"text-right\">By Tiffany York </p>\n",
       "</div>"
      ]
     },
     "execution_count": 19,
     "metadata": {},
     "output_type": "execute_result"
    }
   ],
   "source": [
    "date_and_byline_div = article.select('.grid.grid-cols-2.italic')[0]\n",
    "date_and_byline_div"
   ]
  },
  {
   "cell_type": "code",
   "execution_count": 20,
   "metadata": {},
   "outputs": [
    {
     "data": {
      "text/plain": [
       "' 1991-02-12 '"
      ]
     },
     "execution_count": 20,
     "metadata": {},
     "output_type": "execute_result"
    }
   ],
   "source": [
    "date_p, by_p = date_and_byline_div.find_all('p')\n",
    "date_p.text"
   ]
  },
  {
   "cell_type": "code",
   "execution_count": 21,
   "metadata": {},
   "outputs": [
    {
     "data": {
      "text/plain": [
       "'By Tiffany York '"
      ]
     },
     "execution_count": 21,
     "metadata": {},
     "output_type": "execute_result"
    }
   ],
   "source": [
    "by_p.text"
   ]
  },
  {
   "cell_type": "code",
   "execution_count": 22,
   "metadata": {},
   "outputs": [
    {
     "data": {
      "text/plain": [
       "<p>Time else put amount. Window them decade bit.\n",
       "Hit form perform. Forget indicate now picture. Among like spring style rather popular.</p>"
      ]
     },
     "execution_count": 22,
     "metadata": {},
     "output_type": "execute_result"
    }
   ],
   "source": [
    "article.find_all('p')[-1]"
   ]
  },
  {
   "cell_type": "code",
   "execution_count": 23,
   "metadata": {},
   "outputs": [],
   "source": [
    "summary = article.find_all('p')[-1].text"
   ]
  },
  {
   "cell_type": "markdown",
   "metadata": {},
   "source": [
    "`.select` vs `.find` or `.find_all`\n",
    "\n",
    "- `.select` always five back a list, sometines the list is empty, sometines it has a single element, sometimes is has multiple elements.\n",
    "- ``"
   ]
  },
  {
   "cell_type": "code",
   "execution_count": 33,
   "metadata": {},
   "outputs": [
    {
     "data": {
      "text/plain": [
       "<div class=\"grid grid-cols-2 italic\">\n",
       "<p> 1991-02-12 </p>\n",
       "<p class=\"text-right\">By Tiffany York </p>\n",
       "</div>"
      ]
     },
     "execution_count": 33,
     "metadata": {},
     "output_type": "execute_result"
    }
   ],
   "source": [
    "article.find('div', class_='grid grid-cols-2 italic')"
   ]
  },
  {
   "cell_type": "code",
   "execution_count": 29,
   "metadata": {},
   "outputs": [],
   "source": [
    "\n",
    "def process_article(article):\n",
    "    title = article.find('h2').text\n",
    "    date_and_byline_div = article.select('.grid.grid-cols-2.italic')[0]\n",
    "    date_p, by_p = date_and_byline_div.find_all('p')\n",
    "    summary = article.find_all('p')[-1].text\n",
    "    return {\n",
    "            \"title\": title,\n",
    "            \"date\": date_p.text,\n",
    "            \"by\": by_p.text,\n",
    "            \"summary\": summary\n",
    "            \n",
    "        }"
   ]
  },
  {
   "cell_type": "code",
   "execution_count": 30,
   "metadata": {},
   "outputs": [
    {
     "data": {
      "text/plain": [
       "{'title': 'mother its learn',\n",
       " 'date': ' 1972-11-11 ',\n",
       " 'by': 'By Daryl Gonzales ',\n",
       " 'summary': 'Paper themselves down human tell thank. Seem natural how evening.\\nBox article movie available too. Under business each play way college weight. Ability free catch raise.'}"
      ]
     },
     "execution_count": 30,
     "metadata": {},
     "output_type": "execute_result"
    }
   ],
   "source": [
    "process_article(articles[3])"
   ]
  },
  {
   "cell_type": "code",
   "execution_count": 31,
   "metadata": {},
   "outputs": [
    {
     "data": {
      "text/html": [
       "<div>\n",
       "<style scoped>\n",
       "    .dataframe tbody tr th:only-of-type {\n",
       "        vertical-align: middle;\n",
       "    }\n",
       "\n",
       "    .dataframe tbody tr th {\n",
       "        vertical-align: top;\n",
       "    }\n",
       "\n",
       "    .dataframe thead th {\n",
       "        text-align: right;\n",
       "    }\n",
       "</style>\n",
       "<table border=\"1\" class=\"dataframe\">\n",
       "  <thead>\n",
       "    <tr style=\"text-align: right;\">\n",
       "      <th></th>\n",
       "      <th>title</th>\n",
       "      <th>date</th>\n",
       "      <th>by</th>\n",
       "      <th>summary</th>\n",
       "    </tr>\n",
       "  </thead>\n",
       "  <tbody>\n",
       "    <tr>\n",
       "      <th>0</th>\n",
       "      <td>century eight if</td>\n",
       "      <td>1991-02-12</td>\n",
       "      <td>By Tiffany York</td>\n",
       "      <td>Time else put amount. Window them decade bit.\\...</td>\n",
       "    </tr>\n",
       "    <tr>\n",
       "      <th>1</th>\n",
       "      <td>sound approach community</td>\n",
       "      <td>1989-03-11</td>\n",
       "      <td>By James Pope</td>\n",
       "      <td>If win film quality world. Official camera gre...</td>\n",
       "    </tr>\n",
       "    <tr>\n",
       "      <th>2</th>\n",
       "      <td>dark station any</td>\n",
       "      <td>2018-06-18</td>\n",
       "      <td>By Matthew Jackson</td>\n",
       "      <td>Discussion time benefit home. Enjoy financial ...</td>\n",
       "    </tr>\n",
       "    <tr>\n",
       "      <th>3</th>\n",
       "      <td>mother its learn</td>\n",
       "      <td>1972-11-11</td>\n",
       "      <td>By Daryl Gonzales</td>\n",
       "      <td>Paper themselves down human tell thank. Seem n...</td>\n",
       "    </tr>\n",
       "    <tr>\n",
       "      <th>4</th>\n",
       "      <td>give through major</td>\n",
       "      <td>1982-07-14</td>\n",
       "      <td>By Daniel Hernandez</td>\n",
       "      <td>Their official girl itself almost. Wrong simil...</td>\n",
       "    </tr>\n",
       "    <tr>\n",
       "      <th>5</th>\n",
       "      <td>often because grow</td>\n",
       "      <td>2014-01-30</td>\n",
       "      <td>By Danielle Dominguez</td>\n",
       "      <td>Physical believe candidate money. Surface away...</td>\n",
       "    </tr>\n",
       "    <tr>\n",
       "      <th>6</th>\n",
       "      <td>environmental standard number</td>\n",
       "      <td>1997-11-16</td>\n",
       "      <td>By Carlos Gaines PhD</td>\n",
       "      <td>Dinner machine society discover great debate o...</td>\n",
       "    </tr>\n",
       "    <tr>\n",
       "      <th>7</th>\n",
       "      <td>realize coach rate</td>\n",
       "      <td>1991-04-25</td>\n",
       "      <td>By Valerie Martinez</td>\n",
       "      <td>Someone imagine strategy budget debate. Whose ...</td>\n",
       "    </tr>\n",
       "    <tr>\n",
       "      <th>8</th>\n",
       "      <td>tree avoid talk</td>\n",
       "      <td>2016-09-13</td>\n",
       "      <td>By Jose Smith</td>\n",
       "      <td>Lead plan later cultural. Product factor autho...</td>\n",
       "    </tr>\n",
       "    <tr>\n",
       "      <th>9</th>\n",
       "      <td>religious news own</td>\n",
       "      <td>1983-04-29</td>\n",
       "      <td>By Jennifer White PhD</td>\n",
       "      <td>Note forget respond actually throughout. Full ...</td>\n",
       "    </tr>\n",
       "    <tr>\n",
       "      <th>10</th>\n",
       "      <td>apply start read</td>\n",
       "      <td>2020-04-10</td>\n",
       "      <td>By Melissa Mcdaniel</td>\n",
       "      <td>Page one bill sit. It box idea day coach car t...</td>\n",
       "    </tr>\n",
       "    <tr>\n",
       "      <th>11</th>\n",
       "      <td>necessary will president</td>\n",
       "      <td>2005-07-13</td>\n",
       "      <td>By Lauren Chapman</td>\n",
       "      <td>North address wear power. Election technology ...</td>\n",
       "    </tr>\n",
       "  </tbody>\n",
       "</table>\n",
       "</div>"
      ],
      "text/plain": [
       "                            title          date                      by  \\\n",
       "0                century eight if   1991-02-12         By Tiffany York    \n",
       "1        sound approach community   1989-03-11           By James Pope    \n",
       "2                dark station any   2018-06-18      By Matthew Jackson    \n",
       "3                mother its learn   1972-11-11       By Daryl Gonzales    \n",
       "4              give through major   1982-07-14     By Daniel Hernandez    \n",
       "5              often because grow   2014-01-30   By Danielle Dominguez    \n",
       "6   environmental standard number   1997-11-16    By Carlos Gaines PhD    \n",
       "7              realize coach rate   1991-04-25     By Valerie Martinez    \n",
       "8                 tree avoid talk   2016-09-13           By Jose Smith    \n",
       "9              religious news own   1983-04-29   By Jennifer White PhD    \n",
       "10               apply start read   2020-04-10     By Melissa Mcdaniel    \n",
       "11       necessary will president   2005-07-13       By Lauren Chapman    \n",
       "\n",
       "                                              summary  \n",
       "0   Time else put amount. Window them decade bit.\\...  \n",
       "1   If win film quality world. Official camera gre...  \n",
       "2   Discussion time benefit home. Enjoy financial ...  \n",
       "3   Paper themselves down human tell thank. Seem n...  \n",
       "4   Their official girl itself almost. Wrong simil...  \n",
       "5   Physical believe candidate money. Surface away...  \n",
       "6   Dinner machine society discover great debate o...  \n",
       "7   Someone imagine strategy budget debate. Whose ...  \n",
       "8   Lead plan later cultural. Product factor autho...  \n",
       "9   Note forget respond actually throughout. Full ...  \n",
       "10  Page one bill sit. It box idea day coach car t...  \n",
       "11  North address wear power. Election technology ...  "
      ]
     },
     "execution_count": 31,
     "metadata": {},
     "output_type": "execute_result"
    }
   ],
   "source": [
    "import pandas as pd\n",
    "\n",
    "pd.DataFrame([process_article(article) for article in articles])"
   ]
  },
  {
   "cell_type": "markdown",
   "metadata": {},
   "source": [
    "___\n",
    "# Mini Exercise: Web Scraping People"
   ]
  },
  {
   "cell_type": "code",
   "execution_count": 97,
   "metadata": {},
   "outputs": [],
   "source": [
    "response = requests.get('https://web-scraping-demo.zgulde.net/people')\n",
    "html = response.text\n",
    "soup = bs4.BeautifulSoup(html)"
   ]
  },
  {
   "cell_type": "markdown",
   "metadata": {},
   "source": [
    "## 1. Find the container for the information we want `article_container`"
   ]
  },
  {
   "cell_type": "code",
   "execution_count": 98,
   "metadata": {
    "scrolled": true
   },
   "outputs": [
    {
     "data": {
      "text/plain": [
       "<div class=\"grid grid-cols-2 gap-x-12 gap-y-16\" id=\"people\">\n",
       "<div class=\"person border rounded px-3 py-5 grid grid-cols-2 gap-x-3 bg-purple-50 hover:shadow-lg transition duration-500\">\n",
       "<h2 class=\"text-2xl text-purple-800 name col-span-full border-b\">Sarah Bender</h2>\n",
       "<p class=\"quote col-span-full px-5 py-5 text-center text-gray-500\">\n",
       "            \"Organized stable open architecture\"\n",
       "        </p>\n",
       "<div class=\"grid grid-cols-9\">\n",
       "<i class=\"bi bi-envelope-fill text-purple-800\"></i>\n",
       "<p class=\"email col-span-8\">david31@yahoo.com</p>\n",
       "<i class=\"bi bi-telephone-fill text-purple-800\"></i>\n",
       "<p class=\"phone col-span-8\">001-335-600-5479x32681</p>\n",
       "</div>\n",
       "<div class=\"address grid grid-cols-9\">\n",
       "<i class=\"bi bi-geo-fill text-purple-800\"></i>\n",
       "<p class=\"col-span-8\">\n",
       "                1479 Kristine Forest <br/>\n",
       "                Lake Cynthia, NJ 25914\n",
       "            </p>\n",
       "</div>\n",
       "</div>\n",
       "<div class=\"person border rounded px-3 py-5 grid grid-cols-2 gap-x-3 bg-purple-50 hover:shadow-lg transition duration-500\">\n",
       "<h2 class=\"text-2xl text-purple-800 name col-span-full border-b\">Jason Parker</h2>\n",
       "<p class=\"quote col-span-full px-5 py-5 text-center text-gray-500\">\n",
       "            \"Down-sized modular archive\"\n",
       "        </p>\n",
       "<div class=\"grid grid-cols-9\">\n",
       "<i class=\"bi bi-envelope-fill text-purple-800\"></i>\n",
       "<p class=\"email col-span-8\">nherrera@yahoo.com</p>\n",
       "<i class=\"bi bi-telephone-fill text-purple-800\"></i>\n",
       "<p class=\"phone col-span-8\">350.826.7710x386</p>\n",
       "</div>\n",
       "<div class=\"address grid grid-cols-9\">\n",
       "<i class=\"bi bi-geo-fill text-purple-800\"></i>\n",
       "<p class=\"col-span-8\">\n",
       "                36679 Shane Alley Suite 004 <br/>\n",
       "                Millershire, NE 41731\n",
       "            </p>\n",
       "</div>\n",
       "</div>\n",
       "<div class=\"person border rounded px-3 py-5 grid grid-cols-2 gap-x-3 bg-purple-50 hover:shadow-lg transition duration-500\">\n",
       "<h2 class=\"text-2xl text-purple-800 name col-span-full border-b\">John Morse</h2>\n",
       "<p class=\"quote col-span-full px-5 py-5 text-center text-gray-500\">\n",
       "            \"Managed user-facing Graphic Interface\"\n",
       "        </p>\n",
       "<div class=\"grid grid-cols-9\">\n",
       "<i class=\"bi bi-envelope-fill text-purple-800\"></i>\n",
       "<p class=\"email col-span-8\">williamsmaria@robinson-sanchez.com</p>\n",
       "<i class=\"bi bi-telephone-fill text-purple-800\"></i>\n",
       "<p class=\"phone col-span-8\">001-861-048-6223x17183</p>\n",
       "</div>\n",
       "<div class=\"address grid grid-cols-9\">\n",
       "<i class=\"bi bi-geo-fill text-purple-800\"></i>\n",
       "<p class=\"col-span-8\">\n",
       "                2168 Smith Squares <br/>\n",
       "                Fullerton, RI 31415\n",
       "            </p>\n",
       "</div>\n",
       "</div>\n",
       "<div class=\"person border rounded px-3 py-5 grid grid-cols-2 gap-x-3 bg-purple-50 hover:shadow-lg transition duration-500\">\n",
       "<h2 class=\"text-2xl text-purple-800 name col-span-full border-b\">Joseph Rhodes</h2>\n",
       "<p class=\"quote col-span-full px-5 py-5 text-center text-gray-500\">\n",
       "            \"Virtual neutral initiative\"\n",
       "        </p>\n",
       "<div class=\"grid grid-cols-9\">\n",
       "<i class=\"bi bi-envelope-fill text-purple-800\"></i>\n",
       "<p class=\"email col-span-8\">susan67@hotmail.com</p>\n",
       "<i class=\"bi bi-telephone-fill text-purple-800\"></i>\n",
       "<p class=\"phone col-span-8\">232-193-9856</p>\n",
       "</div>\n",
       "<div class=\"address grid grid-cols-9\">\n",
       "<i class=\"bi bi-geo-fill text-purple-800\"></i>\n",
       "<p class=\"col-span-8\">\n",
       "                09539 Smith Summit Apt. 262 <br/>\n",
       "                North Nicholastown, ID 23745\n",
       "            </p>\n",
       "</div>\n",
       "</div>\n",
       "<div class=\"person border rounded px-3 py-5 grid grid-cols-2 gap-x-3 bg-purple-50 hover:shadow-lg transition duration-500\">\n",
       "<h2 class=\"text-2xl text-purple-800 name col-span-full border-b\">Lisa Ward</h2>\n",
       "<p class=\"quote col-span-full px-5 py-5 text-center text-gray-500\">\n",
       "            \"Streamlined high-level flexibility\"\n",
       "        </p>\n",
       "<div class=\"grid grid-cols-9\">\n",
       "<i class=\"bi bi-envelope-fill text-purple-800\"></i>\n",
       "<p class=\"email col-span-8\">derek26@williams.com</p>\n",
       "<i class=\"bi bi-telephone-fill text-purple-800\"></i>\n",
       "<p class=\"phone col-span-8\">777-404-3793</p>\n",
       "</div>\n",
       "<div class=\"address grid grid-cols-9\">\n",
       "<i class=\"bi bi-geo-fill text-purple-800\"></i>\n",
       "<p class=\"col-span-8\">\n",
       "                71655 Lisa Extension Apt. 202 <br/>\n",
       "                South Larrychester, MN 99105\n",
       "            </p>\n",
       "</div>\n",
       "</div>\n",
       "<div class=\"person border rounded px-3 py-5 grid grid-cols-2 gap-x-3 bg-purple-50 hover:shadow-lg transition duration-500\">\n",
       "<h2 class=\"text-2xl text-purple-800 name col-span-full border-b\">Paul Davis</h2>\n",
       "<p class=\"quote col-span-full px-5 py-5 text-center text-gray-500\">\n",
       "            \"Expanded tangible middleware\"\n",
       "        </p>\n",
       "<div class=\"grid grid-cols-9\">\n",
       "<i class=\"bi bi-envelope-fill text-purple-800\"></i>\n",
       "<p class=\"email col-span-8\">fdavis@hotmail.com</p>\n",
       "<i class=\"bi bi-telephone-fill text-purple-800\"></i>\n",
       "<p class=\"phone col-span-8\">3161097874</p>\n",
       "</div>\n",
       "<div class=\"address grid grid-cols-9\">\n",
       "<i class=\"bi bi-geo-fill text-purple-800\"></i>\n",
       "<p class=\"col-span-8\">\n",
       "                013 Stark Valley Apt. 408 <br/>\n",
       "                Reedview, AK 68767\n",
       "            </p>\n",
       "</div>\n",
       "</div>\n",
       "<div class=\"person border rounded px-3 py-5 grid grid-cols-2 gap-x-3 bg-purple-50 hover:shadow-lg transition duration-500\">\n",
       "<h2 class=\"text-2xl text-purple-800 name col-span-full border-b\">Kevin Cox</h2>\n",
       "<p class=\"quote col-span-full px-5 py-5 text-center text-gray-500\">\n",
       "            \"Adaptive multi-state archive\"\n",
       "        </p>\n",
       "<div class=\"grid grid-cols-9\">\n",
       "<i class=\"bi bi-envelope-fill text-purple-800\"></i>\n",
       "<p class=\"email col-span-8\">natashamayer@boyd-bowman.com</p>\n",
       "<i class=\"bi bi-telephone-fill text-purple-800\"></i>\n",
       "<p class=\"phone col-span-8\">814.811.7258</p>\n",
       "</div>\n",
       "<div class=\"address grid grid-cols-9\">\n",
       "<i class=\"bi bi-geo-fill text-purple-800\"></i>\n",
       "<p class=\"col-span-8\">\n",
       "                152 Cameron Locks <br/>\n",
       "                West Tammy, IL 84098\n",
       "            </p>\n",
       "</div>\n",
       "</div>\n",
       "<div class=\"person border rounded px-3 py-5 grid grid-cols-2 gap-x-3 bg-purple-50 hover:shadow-lg transition duration-500\">\n",
       "<h2 class=\"text-2xl text-purple-800 name col-span-full border-b\">Deanna Horne</h2>\n",
       "<p class=\"quote col-span-full px-5 py-5 text-center text-gray-500\">\n",
       "            \"Ameliorated dedicated workforce\"\n",
       "        </p>\n",
       "<div class=\"grid grid-cols-9\">\n",
       "<i class=\"bi bi-envelope-fill text-purple-800\"></i>\n",
       "<p class=\"email col-span-8\">brewermatthew@gmail.com</p>\n",
       "<i class=\"bi bi-telephone-fill text-purple-800\"></i>\n",
       "<p class=\"phone col-span-8\">001-800-574-1858x81751</p>\n",
       "</div>\n",
       "<div class=\"address grid grid-cols-9\">\n",
       "<i class=\"bi bi-geo-fill text-purple-800\"></i>\n",
       "<p class=\"col-span-8\">\n",
       "                510 Swanson Lock <br/>\n",
       "                Sarahstad, VT 04836\n",
       "            </p>\n",
       "</div>\n",
       "</div>\n",
       "<div class=\"person border rounded px-3 py-5 grid grid-cols-2 gap-x-3 bg-purple-50 hover:shadow-lg transition duration-500\">\n",
       "<h2 class=\"text-2xl text-purple-800 name col-span-full border-b\">Joshua Villanueva</h2>\n",
       "<p class=\"quote col-span-full px-5 py-5 text-center text-gray-500\">\n",
       "            \"Versatile responsive monitoring\"\n",
       "        </p>\n",
       "<div class=\"grid grid-cols-9\">\n",
       "<i class=\"bi bi-envelope-fill text-purple-800\"></i>\n",
       "<p class=\"email col-span-8\">timothymills@adams.com</p>\n",
       "<i class=\"bi bi-telephone-fill text-purple-800\"></i>\n",
       "<p class=\"phone col-span-8\">001-744-299-5989</p>\n",
       "</div>\n",
       "<div class=\"address grid grid-cols-9\">\n",
       "<i class=\"bi bi-geo-fill text-purple-800\"></i>\n",
       "<p class=\"col-span-8\">\n",
       "                5624 Jeffrey Fork <br/>\n",
       "                Port Tammy, WV 95861\n",
       "            </p>\n",
       "</div>\n",
       "</div>\n",
       "<div class=\"person border rounded px-3 py-5 grid grid-cols-2 gap-x-3 bg-purple-50 hover:shadow-lg transition duration-500\">\n",
       "<h2 class=\"text-2xl text-purple-800 name col-span-full border-b\">Katie Mcdonald</h2>\n",
       "<p class=\"quote col-span-full px-5 py-5 text-center text-gray-500\">\n",
       "            \"Multi-layered bifurcated challenge\"\n",
       "        </p>\n",
       "<div class=\"grid grid-cols-9\">\n",
       "<i class=\"bi bi-envelope-fill text-purple-800\"></i>\n",
       "<p class=\"email col-span-8\">shannonharris@gmail.com</p>\n",
       "<i class=\"bi bi-telephone-fill text-purple-800\"></i>\n",
       "<p class=\"phone col-span-8\">+1-949-443-5054x301</p>\n",
       "</div>\n",
       "<div class=\"address grid grid-cols-9\">\n",
       "<i class=\"bi bi-geo-fill text-purple-800\"></i>\n",
       "<p class=\"col-span-8\">\n",
       "                14399 Tyler Land <br/>\n",
       "                Joshuamouth, AR 51269\n",
       "            </p>\n",
       "</div>\n",
       "</div>\n",
       "</div>"
      ]
     },
     "execution_count": 98,
     "metadata": {},
     "output_type": "execute_result"
    }
   ],
   "source": [
    "soup.select('.grid.grid-cols-2.gap-x-12.gap-y-16')[0]"
   ]
  },
  {
   "cell_type": "code",
   "execution_count": 99,
   "metadata": {},
   "outputs": [],
   "source": [
    "people_container = soup.select('.grid.grid-cols-2.gap-x-12.gap-y-16')[0]"
   ]
  },
  {
   "cell_type": "markdown",
   "metadata": {},
   "source": [
    "## 2. Within the container, id the entities that we went to produce a list"
   ]
  },
  {
   "cell_type": "code",
   "execution_count": 100,
   "metadata": {},
   "outputs": [
    {
     "data": {
      "text/plain": [
       "10"
      ]
     },
     "execution_count": 100,
     "metadata": {},
     "output_type": "execute_result"
    }
   ],
   "source": [
    "len(people_container.select('.person.border'))"
   ]
  },
  {
   "cell_type": "code",
   "execution_count": 107,
   "metadata": {},
   "outputs": [],
   "source": [
    "people = people_container.select('.person.border')"
   ]
  },
  {
   "cell_type": "code",
   "execution_count": 130,
   "metadata": {
    "scrolled": true
   },
   "outputs": [
    {
     "data": {
      "text/plain": [
       "[<div class=\"person border rounded px-3 py-5 grid grid-cols-2 gap-x-3 bg-purple-50 hover:shadow-lg transition duration-500\">\n",
       " <h2 class=\"text-2xl text-purple-800 name col-span-full border-b\">Sarah Bender</h2>\n",
       " <p class=\"quote col-span-full px-5 py-5 text-center text-gray-500\">\n",
       "             \"Organized stable open architecture\"\n",
       "         </p>\n",
       " <div class=\"grid grid-cols-9\">\n",
       " <i class=\"bi bi-envelope-fill text-purple-800\"></i>\n",
       " <p class=\"email col-span-8\">david31@yahoo.com</p>\n",
       " <i class=\"bi bi-telephone-fill text-purple-800\"></i>\n",
       " <p class=\"phone col-span-8\">001-335-600-5479x32681</p>\n",
       " </div>\n",
       " <div class=\"address grid grid-cols-9\">\n",
       " <i class=\"bi bi-geo-fill text-purple-800\"></i>\n",
       " <p class=\"col-span-8\">\n",
       "                 1479 Kristine Forest <br/>\n",
       "                 Lake Cynthia, NJ 25914\n",
       "             </p>\n",
       " </div>\n",
       " </div>,\n",
       " <div class=\"person border rounded px-3 py-5 grid grid-cols-2 gap-x-3 bg-purple-50 hover:shadow-lg transition duration-500\">\n",
       " <h2 class=\"text-2xl text-purple-800 name col-span-full border-b\">Jason Parker</h2>\n",
       " <p class=\"quote col-span-full px-5 py-5 text-center text-gray-500\">\n",
       "             \"Down-sized modular archive\"\n",
       "         </p>\n",
       " <div class=\"grid grid-cols-9\">\n",
       " <i class=\"bi bi-envelope-fill text-purple-800\"></i>\n",
       " <p class=\"email col-span-8\">nherrera@yahoo.com</p>\n",
       " <i class=\"bi bi-telephone-fill text-purple-800\"></i>\n",
       " <p class=\"phone col-span-8\">350.826.7710x386</p>\n",
       " </div>\n",
       " <div class=\"address grid grid-cols-9\">\n",
       " <i class=\"bi bi-geo-fill text-purple-800\"></i>\n",
       " <p class=\"col-span-8\">\n",
       "                 36679 Shane Alley Suite 004 <br/>\n",
       "                 Millershire, NE 41731\n",
       "             </p>\n",
       " </div>\n",
       " </div>,\n",
       " <div class=\"person border rounded px-3 py-5 grid grid-cols-2 gap-x-3 bg-purple-50 hover:shadow-lg transition duration-500\">\n",
       " <h2 class=\"text-2xl text-purple-800 name col-span-full border-b\">John Morse</h2>\n",
       " <p class=\"quote col-span-full px-5 py-5 text-center text-gray-500\">\n",
       "             \"Managed user-facing Graphic Interface\"\n",
       "         </p>\n",
       " <div class=\"grid grid-cols-9\">\n",
       " <i class=\"bi bi-envelope-fill text-purple-800\"></i>\n",
       " <p class=\"email col-span-8\">williamsmaria@robinson-sanchez.com</p>\n",
       " <i class=\"bi bi-telephone-fill text-purple-800\"></i>\n",
       " <p class=\"phone col-span-8\">001-861-048-6223x17183</p>\n",
       " </div>\n",
       " <div class=\"address grid grid-cols-9\">\n",
       " <i class=\"bi bi-geo-fill text-purple-800\"></i>\n",
       " <p class=\"col-span-8\">\n",
       "                 2168 Smith Squares <br/>\n",
       "                 Fullerton, RI 31415\n",
       "             </p>\n",
       " </div>\n",
       " </div>,\n",
       " <div class=\"person border rounded px-3 py-5 grid grid-cols-2 gap-x-3 bg-purple-50 hover:shadow-lg transition duration-500\">\n",
       " <h2 class=\"text-2xl text-purple-800 name col-span-full border-b\">Joseph Rhodes</h2>\n",
       " <p class=\"quote col-span-full px-5 py-5 text-center text-gray-500\">\n",
       "             \"Virtual neutral initiative\"\n",
       "         </p>\n",
       " <div class=\"grid grid-cols-9\">\n",
       " <i class=\"bi bi-envelope-fill text-purple-800\"></i>\n",
       " <p class=\"email col-span-8\">susan67@hotmail.com</p>\n",
       " <i class=\"bi bi-telephone-fill text-purple-800\"></i>\n",
       " <p class=\"phone col-span-8\">232-193-9856</p>\n",
       " </div>\n",
       " <div class=\"address grid grid-cols-9\">\n",
       " <i class=\"bi bi-geo-fill text-purple-800\"></i>\n",
       " <p class=\"col-span-8\">\n",
       "                 09539 Smith Summit Apt. 262 <br/>\n",
       "                 North Nicholastown, ID 23745\n",
       "             </p>\n",
       " </div>\n",
       " </div>,\n",
       " <div class=\"person border rounded px-3 py-5 grid grid-cols-2 gap-x-3 bg-purple-50 hover:shadow-lg transition duration-500\">\n",
       " <h2 class=\"text-2xl text-purple-800 name col-span-full border-b\">Lisa Ward</h2>\n",
       " <p class=\"quote col-span-full px-5 py-5 text-center text-gray-500\">\n",
       "             \"Streamlined high-level flexibility\"\n",
       "         </p>\n",
       " <div class=\"grid grid-cols-9\">\n",
       " <i class=\"bi bi-envelope-fill text-purple-800\"></i>\n",
       " <p class=\"email col-span-8\">derek26@williams.com</p>\n",
       " <i class=\"bi bi-telephone-fill text-purple-800\"></i>\n",
       " <p class=\"phone col-span-8\">777-404-3793</p>\n",
       " </div>\n",
       " <div class=\"address grid grid-cols-9\">\n",
       " <i class=\"bi bi-geo-fill text-purple-800\"></i>\n",
       " <p class=\"col-span-8\">\n",
       "                 71655 Lisa Extension Apt. 202 <br/>\n",
       "                 South Larrychester, MN 99105\n",
       "             </p>\n",
       " </div>\n",
       " </div>,\n",
       " <div class=\"person border rounded px-3 py-5 grid grid-cols-2 gap-x-3 bg-purple-50 hover:shadow-lg transition duration-500\">\n",
       " <h2 class=\"text-2xl text-purple-800 name col-span-full border-b\">Paul Davis</h2>\n",
       " <p class=\"quote col-span-full px-5 py-5 text-center text-gray-500\">\n",
       "             \"Expanded tangible middleware\"\n",
       "         </p>\n",
       " <div class=\"grid grid-cols-9\">\n",
       " <i class=\"bi bi-envelope-fill text-purple-800\"></i>\n",
       " <p class=\"email col-span-8\">fdavis@hotmail.com</p>\n",
       " <i class=\"bi bi-telephone-fill text-purple-800\"></i>\n",
       " <p class=\"phone col-span-8\">3161097874</p>\n",
       " </div>\n",
       " <div class=\"address grid grid-cols-9\">\n",
       " <i class=\"bi bi-geo-fill text-purple-800\"></i>\n",
       " <p class=\"col-span-8\">\n",
       "                 013 Stark Valley Apt. 408 <br/>\n",
       "                 Reedview, AK 68767\n",
       "             </p>\n",
       " </div>\n",
       " </div>,\n",
       " <div class=\"person border rounded px-3 py-5 grid grid-cols-2 gap-x-3 bg-purple-50 hover:shadow-lg transition duration-500\">\n",
       " <h2 class=\"text-2xl text-purple-800 name col-span-full border-b\">Kevin Cox</h2>\n",
       " <p class=\"quote col-span-full px-5 py-5 text-center text-gray-500\">\n",
       "             \"Adaptive multi-state archive\"\n",
       "         </p>\n",
       " <div class=\"grid grid-cols-9\">\n",
       " <i class=\"bi bi-envelope-fill text-purple-800\"></i>\n",
       " <p class=\"email col-span-8\">natashamayer@boyd-bowman.com</p>\n",
       " <i class=\"bi bi-telephone-fill text-purple-800\"></i>\n",
       " <p class=\"phone col-span-8\">814.811.7258</p>\n",
       " </div>\n",
       " <div class=\"address grid grid-cols-9\">\n",
       " <i class=\"bi bi-geo-fill text-purple-800\"></i>\n",
       " <p class=\"col-span-8\">\n",
       "                 152 Cameron Locks <br/>\n",
       "                 West Tammy, IL 84098\n",
       "             </p>\n",
       " </div>\n",
       " </div>,\n",
       " <div class=\"person border rounded px-3 py-5 grid grid-cols-2 gap-x-3 bg-purple-50 hover:shadow-lg transition duration-500\">\n",
       " <h2 class=\"text-2xl text-purple-800 name col-span-full border-b\">Deanna Horne</h2>\n",
       " <p class=\"quote col-span-full px-5 py-5 text-center text-gray-500\">\n",
       "             \"Ameliorated dedicated workforce\"\n",
       "         </p>\n",
       " <div class=\"grid grid-cols-9\">\n",
       " <i class=\"bi bi-envelope-fill text-purple-800\"></i>\n",
       " <p class=\"email col-span-8\">brewermatthew@gmail.com</p>\n",
       " <i class=\"bi bi-telephone-fill text-purple-800\"></i>\n",
       " <p class=\"phone col-span-8\">001-800-574-1858x81751</p>\n",
       " </div>\n",
       " <div class=\"address grid grid-cols-9\">\n",
       " <i class=\"bi bi-geo-fill text-purple-800\"></i>\n",
       " <p class=\"col-span-8\">\n",
       "                 510 Swanson Lock <br/>\n",
       "                 Sarahstad, VT 04836\n",
       "             </p>\n",
       " </div>\n",
       " </div>,\n",
       " <div class=\"person border rounded px-3 py-5 grid grid-cols-2 gap-x-3 bg-purple-50 hover:shadow-lg transition duration-500\">\n",
       " <h2 class=\"text-2xl text-purple-800 name col-span-full border-b\">Joshua Villanueva</h2>\n",
       " <p class=\"quote col-span-full px-5 py-5 text-center text-gray-500\">\n",
       "             \"Versatile responsive monitoring\"\n",
       "         </p>\n",
       " <div class=\"grid grid-cols-9\">\n",
       " <i class=\"bi bi-envelope-fill text-purple-800\"></i>\n",
       " <p class=\"email col-span-8\">timothymills@adams.com</p>\n",
       " <i class=\"bi bi-telephone-fill text-purple-800\"></i>\n",
       " <p class=\"phone col-span-8\">001-744-299-5989</p>\n",
       " </div>\n",
       " <div class=\"address grid grid-cols-9\">\n",
       " <i class=\"bi bi-geo-fill text-purple-800\"></i>\n",
       " <p class=\"col-span-8\">\n",
       "                 5624 Jeffrey Fork <br/>\n",
       "                 Port Tammy, WV 95861\n",
       "             </p>\n",
       " </div>\n",
       " </div>,\n",
       " <div class=\"person border rounded px-3 py-5 grid grid-cols-2 gap-x-3 bg-purple-50 hover:shadow-lg transition duration-500\">\n",
       " <h2 class=\"text-2xl text-purple-800 name col-span-full border-b\">Katie Mcdonald</h2>\n",
       " <p class=\"quote col-span-full px-5 py-5 text-center text-gray-500\">\n",
       "             \"Multi-layered bifurcated challenge\"\n",
       "         </p>\n",
       " <div class=\"grid grid-cols-9\">\n",
       " <i class=\"bi bi-envelope-fill text-purple-800\"></i>\n",
       " <p class=\"email col-span-8\">shannonharris@gmail.com</p>\n",
       " <i class=\"bi bi-telephone-fill text-purple-800\"></i>\n",
       " <p class=\"phone col-span-8\">+1-949-443-5054x301</p>\n",
       " </div>\n",
       " <div class=\"address grid grid-cols-9\">\n",
       " <i class=\"bi bi-geo-fill text-purple-800\"></i>\n",
       " <p class=\"col-span-8\">\n",
       "                 14399 Tyler Land <br/>\n",
       "                 Joshuamouth, AR 51269\n",
       "             </p>\n",
       " </div>\n",
       " </div>]"
      ]
     },
     "execution_count": 130,
     "metadata": {},
     "output_type": "execute_result"
    }
   ],
   "source": [
    "people_container.select('.person.border')"
   ]
  },
  {
   "cell_type": "code",
   "execution_count": 108,
   "metadata": {},
   "outputs": [
    {
     "name": "stdout",
     "output_type": "stream",
     "text": [
      "<div class=\"person border rounded px-3 py-5 grid grid-cols-2 gap-x-3 bg-purple-50 hover:shadow-lg transition duration-500\">\n",
      " <h2 class=\"text-2xl text-purple-800 name col-span-full border-b\">\n",
      "  Sarah Bender\n",
      " </h2>\n",
      " <p class=\"quote col-span-full px-5 py-5 text-center text-gray-500\">\n",
      "  \"Organized stable open architecture\"\n",
      " </p>\n",
      " <div class=\"grid grid-cols-9\">\n",
      "  <i class=\"bi bi-envelope-fill text-purple-800\">\n",
      "  </i>\n",
      "  <p class=\"email col-span-8\">\n",
      "   david31@yahoo.com\n",
      "  </p>\n",
      "  <i class=\"bi bi-telephone-fill text-purple-800\">\n",
      "  </i>\n",
      "  <p class=\"phone col-span-8\">\n",
      "   001-335-600-5479x32681\n",
      "  </p>\n",
      " </div>\n",
      " <div class=\"address grid grid-cols-9\">\n",
      "  <i class=\"bi bi-geo-fill text-purple-800\">\n",
      "  </i>\n",
      "  <p class=\"col-span-8\">\n",
      "   1479 Kristine Forest\n",
      "   <br/>\n",
      "   Lake Cynthia, NJ 25914\n",
      "  </p>\n",
      " </div>\n",
      "</div>\n",
      "\n"
     ]
    }
   ],
   "source": [
    "person = people[0]\n",
    "print(person.prettify())"
   ]
  },
  {
   "cell_type": "code",
   "execution_count": 109,
   "metadata": {},
   "outputs": [
    {
     "data": {
      "text/plain": [
       "'Sarah Bender'"
      ]
     },
     "execution_count": 109,
     "metadata": {},
     "output_type": "execute_result"
    }
   ],
   "source": [
    "person.find('h2').text"
   ]
  },
  {
   "cell_type": "code",
   "execution_count": 110,
   "metadata": {},
   "outputs": [],
   "source": [
    "titlename = person.find('h2').text"
   ]
  },
  {
   "cell_type": "code",
   "execution_count": 111,
   "metadata": {},
   "outputs": [
    {
     "data": {
      "text/plain": [
       "'\\n            \"Organized stable open architecture\"\\n        '"
      ]
     },
     "execution_count": 111,
     "metadata": {},
     "output_type": "execute_result"
    }
   ],
   "source": [
    "person.find('p').text"
   ]
  },
  {
   "cell_type": "code",
   "execution_count": 112,
   "metadata": {},
   "outputs": [],
   "source": [
    "quote = person.find('h2').text"
   ]
  },
  {
   "cell_type": "code",
   "execution_count": 113,
   "metadata": {},
   "outputs": [
    {
     "data": {
      "text/plain": [
       "'\\n\\ndavid31@yahoo.com\\n\\n001-335-600-5479x32681\\n'"
      ]
     },
     "execution_count": 113,
     "metadata": {},
     "output_type": "execute_result"
    }
   ],
   "source": [
    "person.find('div').text"
   ]
  },
  {
   "cell_type": "code",
   "execution_count": 114,
   "metadata": {},
   "outputs": [
    {
     "data": {
      "text/plain": [
       "[<div class=\"grid grid-cols-9\">\n",
       " <i class=\"bi bi-envelope-fill text-purple-800\"></i>\n",
       " <p class=\"email col-span-8\">david31@yahoo.com</p>\n",
       " <i class=\"bi bi-telephone-fill text-purple-800\"></i>\n",
       " <p class=\"phone col-span-8\">001-335-600-5479x32681</p>\n",
       " </div>,\n",
       " <div class=\"address grid grid-cols-9\">\n",
       " <i class=\"bi bi-geo-fill text-purple-800\"></i>\n",
       " <p class=\"col-span-8\">\n",
       "                 1479 Kristine Forest <br/>\n",
       "                 Lake Cynthia, NJ 25914\n",
       "             </p>\n",
       " </div>]"
      ]
     },
     "execution_count": 114,
     "metadata": {},
     "output_type": "execute_result"
    }
   ],
   "source": [
    "person.find_all('div')"
   ]
  },
  {
   "cell_type": "code",
   "execution_count": 115,
   "metadata": {},
   "outputs": [
    {
     "data": {
      "text/plain": [
       "<div class=\"grid grid-cols-9\">\n",
       "<i class=\"bi bi-envelope-fill text-purple-800\"></i>\n",
       "<p class=\"email col-span-8\">david31@yahoo.com</p>\n",
       "<i class=\"bi bi-telephone-fill text-purple-800\"></i>\n",
       "<p class=\"phone col-span-8\">001-335-600-5479x32681</p>\n",
       "</div>"
      ]
     },
     "execution_count": 115,
     "metadata": {},
     "output_type": "execute_result"
    }
   ],
   "source": [
    "person.select('.grid.grid-cols-9')[0]"
   ]
  },
  {
   "cell_type": "code",
   "execution_count": 116,
   "metadata": {},
   "outputs": [
    {
     "data": {
      "text/plain": [
       "<div class=\"address grid grid-cols-9\">\n",
       "<i class=\"bi bi-geo-fill text-purple-800\"></i>\n",
       "<p class=\"col-span-8\">\n",
       "                1479 Kristine Forest <br/>\n",
       "                Lake Cynthia, NJ 25914\n",
       "            </p>\n",
       "</div>"
      ]
     },
     "execution_count": 116,
     "metadata": {},
     "output_type": "execute_result"
    }
   ],
   "source": [
    "person.select('.grid.grid-cols-9')[1]"
   ]
  },
  {
   "cell_type": "code",
   "execution_count": 117,
   "metadata": {},
   "outputs": [
    {
     "data": {
      "text/plain": [
       "'\\n\\ndavid31@yahoo.com\\n\\n001-335-600-5479x32681\\n'"
      ]
     },
     "execution_count": 117,
     "metadata": {},
     "output_type": "execute_result"
    }
   ],
   "source": [
    "person.select('.grid.grid-cols-9')[0].text"
   ]
  },
  {
   "cell_type": "code",
   "execution_count": 118,
   "metadata": {},
   "outputs": [],
   "source": [
    "email_and_phone = person.select('.grid.grid-cols-9')[0]"
   ]
  },
  {
   "cell_type": "code",
   "execution_count": 119,
   "metadata": {},
   "outputs": [
    {
     "data": {
      "text/plain": [
       "'david31@yahoo.com'"
      ]
     },
     "execution_count": 119,
     "metadata": {},
     "output_type": "execute_result"
    }
   ],
   "source": [
    "email_p, phone_p = email_and_phone.find_all('p')\n",
    "email_p.text"
   ]
  },
  {
   "cell_type": "code",
   "execution_count": 120,
   "metadata": {},
   "outputs": [
    {
     "data": {
      "text/plain": [
       "'001-335-600-5479x32681'"
      ]
     },
     "execution_count": 120,
     "metadata": {},
     "output_type": "execute_result"
    }
   ],
   "source": [
    "phone_p.text"
   ]
  },
  {
   "cell_type": "code",
   "execution_count": 121,
   "metadata": {},
   "outputs": [],
   "source": [
    "addr_div = person.select('.grid.grid-cols-9')[1]"
   ]
  },
  {
   "cell_type": "code",
   "execution_count": 122,
   "metadata": {},
   "outputs": [
    {
     "data": {
      "text/plain": [
       "'\\n                1479 Kristine Forest \\n                Lake Cynthia, NJ 25914\\n            '"
      ]
     },
     "execution_count": 122,
     "metadata": {},
     "output_type": "execute_result"
    }
   ],
   "source": [
    "addr_p = addr_div.find('p')\n",
    "addr_p.text"
   ]
  },
  {
   "cell_type": "code",
   "execution_count": null,
   "metadata": {},
   "outputs": [],
   "source": []
  },
  {
   "cell_type": "markdown",
   "metadata": {},
   "source": [
    "## 3. Process each individual entity (id the pieces we want and )"
   ]
  },
  {
   "cell_type": "code",
   "execution_count": 123,
   "metadata": {},
   "outputs": [],
   "source": [
    "def process_person(person):\n",
    "    titlename = person.find('h2').text\n",
    "    quote = person.find('h2').text\n",
    "    email_and_phone = person.select('.grid.grid-cols-9')[0]\n",
    "    email_p, phone_p = email_and_phone.find_all('p')\n",
    "    addr_div = person.select('.grid.grid-cols-9')[1]\n",
    "    addr_p = addr_div.find('p')\n",
    "    return {\n",
    "            \"person\": titlename,\n",
    "            \"quote\": quote,\n",
    "            \"email\": email_p.text,\n",
    "            \"phone\": phone_p.text,\n",
    "            \"address\": addr_p.text.strip()\n",
    "            \n",
    "        }"
   ]
  },
  {
   "cell_type": "code",
   "execution_count": 125,
   "metadata": {},
   "outputs": [
    {
     "data": {
      "text/plain": [
       "{'person': 'Jason Parker',\n",
       " 'quote': 'Jason Parker',\n",
       " 'email': 'nherrera@yahoo.com',\n",
       " 'phone': '350.826.7710x386',\n",
       " 'address': '36679 Shane Alley Suite 004 \\n                Millershire, NE 41731'}"
      ]
     },
     "execution_count": 125,
     "metadata": {},
     "output_type": "execute_result"
    }
   ],
   "source": [
    "process_person(people[1])"
   ]
  },
  {
   "cell_type": "code",
   "execution_count": 126,
   "metadata": {},
   "outputs": [],
   "source": [
    "\n",
    "def process_peeps(person):\n",
    "    return {\n",
    "        'name': person.find(class_='name').text,\n",
    "        'quote': person.find(class_='quote').text.strip(),\n",
    "        'email': person.find(class_='email').text,\n",
    "        'phone': person.find(class_='phone').text,\n",
    "        'address': person.find(class_='address').text.strip(),\n",
    "    }"
   ]
  },
  {
   "cell_type": "code",
   "execution_count": 128,
   "metadata": {},
   "outputs": [
    {
     "data": {
      "text/plain": [
       "'Sarah Bender'"
      ]
     },
     "execution_count": 128,
     "metadata": {},
     "output_type": "execute_result"
    }
   ],
   "source": [
    "person.find(class_='name').text"
   ]
  },
  {
   "cell_type": "code",
   "execution_count": 131,
   "metadata": {},
   "outputs": [
    {
     "data": {
      "text/plain": [
       "{'name': 'Sarah Bender',\n",
       " 'quote': '\"Organized stable open architecture\"',\n",
       " 'email': 'david31@yahoo.com',\n",
       " 'phone': '001-335-600-5479x32681',\n",
       " 'address': '1479 Kristine Forest \\n                Lake Cynthia, NJ 25914'}"
      ]
     },
     "execution_count": 131,
     "metadata": {},
     "output_type": "execute_result"
    }
   ],
   "source": [
    "process_peeps(people[0])"
   ]
  },
  {
   "cell_type": "code",
   "execution_count": 132,
   "metadata": {
    "scrolled": true
   },
   "outputs": [
    {
     "data": {
      "text/plain": [
       "<div class=\"grid grid-cols-2 gap-x-12 gap-y-16\" id=\"people\">\n",
       "<div class=\"person border rounded px-3 py-5 grid grid-cols-2 gap-x-3 bg-purple-50 hover:shadow-lg transition duration-500\">\n",
       "<h2 class=\"text-2xl text-purple-800 name col-span-full border-b\">Sarah Bender</h2>\n",
       "<p class=\"quote col-span-full px-5 py-5 text-center text-gray-500\">\n",
       "            \"Organized stable open architecture\"\n",
       "        </p>\n",
       "<div class=\"grid grid-cols-9\">\n",
       "<i class=\"bi bi-envelope-fill text-purple-800\"></i>\n",
       "<p class=\"email col-span-8\">david31@yahoo.com</p>\n",
       "<i class=\"bi bi-telephone-fill text-purple-800\"></i>\n",
       "<p class=\"phone col-span-8\">001-335-600-5479x32681</p>\n",
       "</div>\n",
       "<div class=\"address grid grid-cols-9\">\n",
       "<i class=\"bi bi-geo-fill text-purple-800\"></i>\n",
       "<p class=\"col-span-8\">\n",
       "                1479 Kristine Forest <br/>\n",
       "                Lake Cynthia, NJ 25914\n",
       "            </p>\n",
       "</div>\n",
       "</div>\n",
       "<div class=\"person border rounded px-3 py-5 grid grid-cols-2 gap-x-3 bg-purple-50 hover:shadow-lg transition duration-500\">\n",
       "<h2 class=\"text-2xl text-purple-800 name col-span-full border-b\">Jason Parker</h2>\n",
       "<p class=\"quote col-span-full px-5 py-5 text-center text-gray-500\">\n",
       "            \"Down-sized modular archive\"\n",
       "        </p>\n",
       "<div class=\"grid grid-cols-9\">\n",
       "<i class=\"bi bi-envelope-fill text-purple-800\"></i>\n",
       "<p class=\"email col-span-8\">nherrera@yahoo.com</p>\n",
       "<i class=\"bi bi-telephone-fill text-purple-800\"></i>\n",
       "<p class=\"phone col-span-8\">350.826.7710x386</p>\n",
       "</div>\n",
       "<div class=\"address grid grid-cols-9\">\n",
       "<i class=\"bi bi-geo-fill text-purple-800\"></i>\n",
       "<p class=\"col-span-8\">\n",
       "                36679 Shane Alley Suite 004 <br/>\n",
       "                Millershire, NE 41731\n",
       "            </p>\n",
       "</div>\n",
       "</div>\n",
       "<div class=\"person border rounded px-3 py-5 grid grid-cols-2 gap-x-3 bg-purple-50 hover:shadow-lg transition duration-500\">\n",
       "<h2 class=\"text-2xl text-purple-800 name col-span-full border-b\">John Morse</h2>\n",
       "<p class=\"quote col-span-full px-5 py-5 text-center text-gray-500\">\n",
       "            \"Managed user-facing Graphic Interface\"\n",
       "        </p>\n",
       "<div class=\"grid grid-cols-9\">\n",
       "<i class=\"bi bi-envelope-fill text-purple-800\"></i>\n",
       "<p class=\"email col-span-8\">williamsmaria@robinson-sanchez.com</p>\n",
       "<i class=\"bi bi-telephone-fill text-purple-800\"></i>\n",
       "<p class=\"phone col-span-8\">001-861-048-6223x17183</p>\n",
       "</div>\n",
       "<div class=\"address grid grid-cols-9\">\n",
       "<i class=\"bi bi-geo-fill text-purple-800\"></i>\n",
       "<p class=\"col-span-8\">\n",
       "                2168 Smith Squares <br/>\n",
       "                Fullerton, RI 31415\n",
       "            </p>\n",
       "</div>\n",
       "</div>\n",
       "<div class=\"person border rounded px-3 py-5 grid grid-cols-2 gap-x-3 bg-purple-50 hover:shadow-lg transition duration-500\">\n",
       "<h2 class=\"text-2xl text-purple-800 name col-span-full border-b\">Joseph Rhodes</h2>\n",
       "<p class=\"quote col-span-full px-5 py-5 text-center text-gray-500\">\n",
       "            \"Virtual neutral initiative\"\n",
       "        </p>\n",
       "<div class=\"grid grid-cols-9\">\n",
       "<i class=\"bi bi-envelope-fill text-purple-800\"></i>\n",
       "<p class=\"email col-span-8\">susan67@hotmail.com</p>\n",
       "<i class=\"bi bi-telephone-fill text-purple-800\"></i>\n",
       "<p class=\"phone col-span-8\">232-193-9856</p>\n",
       "</div>\n",
       "<div class=\"address grid grid-cols-9\">\n",
       "<i class=\"bi bi-geo-fill text-purple-800\"></i>\n",
       "<p class=\"col-span-8\">\n",
       "                09539 Smith Summit Apt. 262 <br/>\n",
       "                North Nicholastown, ID 23745\n",
       "            </p>\n",
       "</div>\n",
       "</div>\n",
       "<div class=\"person border rounded px-3 py-5 grid grid-cols-2 gap-x-3 bg-purple-50 hover:shadow-lg transition duration-500\">\n",
       "<h2 class=\"text-2xl text-purple-800 name col-span-full border-b\">Lisa Ward</h2>\n",
       "<p class=\"quote col-span-full px-5 py-5 text-center text-gray-500\">\n",
       "            \"Streamlined high-level flexibility\"\n",
       "        </p>\n",
       "<div class=\"grid grid-cols-9\">\n",
       "<i class=\"bi bi-envelope-fill text-purple-800\"></i>\n",
       "<p class=\"email col-span-8\">derek26@williams.com</p>\n",
       "<i class=\"bi bi-telephone-fill text-purple-800\"></i>\n",
       "<p class=\"phone col-span-8\">777-404-3793</p>\n",
       "</div>\n",
       "<div class=\"address grid grid-cols-9\">\n",
       "<i class=\"bi bi-geo-fill text-purple-800\"></i>\n",
       "<p class=\"col-span-8\">\n",
       "                71655 Lisa Extension Apt. 202 <br/>\n",
       "                South Larrychester, MN 99105\n",
       "            </p>\n",
       "</div>\n",
       "</div>\n",
       "<div class=\"person border rounded px-3 py-5 grid grid-cols-2 gap-x-3 bg-purple-50 hover:shadow-lg transition duration-500\">\n",
       "<h2 class=\"text-2xl text-purple-800 name col-span-full border-b\">Paul Davis</h2>\n",
       "<p class=\"quote col-span-full px-5 py-5 text-center text-gray-500\">\n",
       "            \"Expanded tangible middleware\"\n",
       "        </p>\n",
       "<div class=\"grid grid-cols-9\">\n",
       "<i class=\"bi bi-envelope-fill text-purple-800\"></i>\n",
       "<p class=\"email col-span-8\">fdavis@hotmail.com</p>\n",
       "<i class=\"bi bi-telephone-fill text-purple-800\"></i>\n",
       "<p class=\"phone col-span-8\">3161097874</p>\n",
       "</div>\n",
       "<div class=\"address grid grid-cols-9\">\n",
       "<i class=\"bi bi-geo-fill text-purple-800\"></i>\n",
       "<p class=\"col-span-8\">\n",
       "                013 Stark Valley Apt. 408 <br/>\n",
       "                Reedview, AK 68767\n",
       "            </p>\n",
       "</div>\n",
       "</div>\n",
       "<div class=\"person border rounded px-3 py-5 grid grid-cols-2 gap-x-3 bg-purple-50 hover:shadow-lg transition duration-500\">\n",
       "<h2 class=\"text-2xl text-purple-800 name col-span-full border-b\">Kevin Cox</h2>\n",
       "<p class=\"quote col-span-full px-5 py-5 text-center text-gray-500\">\n",
       "            \"Adaptive multi-state archive\"\n",
       "        </p>\n",
       "<div class=\"grid grid-cols-9\">\n",
       "<i class=\"bi bi-envelope-fill text-purple-800\"></i>\n",
       "<p class=\"email col-span-8\">natashamayer@boyd-bowman.com</p>\n",
       "<i class=\"bi bi-telephone-fill text-purple-800\"></i>\n",
       "<p class=\"phone col-span-8\">814.811.7258</p>\n",
       "</div>\n",
       "<div class=\"address grid grid-cols-9\">\n",
       "<i class=\"bi bi-geo-fill text-purple-800\"></i>\n",
       "<p class=\"col-span-8\">\n",
       "                152 Cameron Locks <br/>\n",
       "                West Tammy, IL 84098\n",
       "            </p>\n",
       "</div>\n",
       "</div>\n",
       "<div class=\"person border rounded px-3 py-5 grid grid-cols-2 gap-x-3 bg-purple-50 hover:shadow-lg transition duration-500\">\n",
       "<h2 class=\"text-2xl text-purple-800 name col-span-full border-b\">Deanna Horne</h2>\n",
       "<p class=\"quote col-span-full px-5 py-5 text-center text-gray-500\">\n",
       "            \"Ameliorated dedicated workforce\"\n",
       "        </p>\n",
       "<div class=\"grid grid-cols-9\">\n",
       "<i class=\"bi bi-envelope-fill text-purple-800\"></i>\n",
       "<p class=\"email col-span-8\">brewermatthew@gmail.com</p>\n",
       "<i class=\"bi bi-telephone-fill text-purple-800\"></i>\n",
       "<p class=\"phone col-span-8\">001-800-574-1858x81751</p>\n",
       "</div>\n",
       "<div class=\"address grid grid-cols-9\">\n",
       "<i class=\"bi bi-geo-fill text-purple-800\"></i>\n",
       "<p class=\"col-span-8\">\n",
       "                510 Swanson Lock <br/>\n",
       "                Sarahstad, VT 04836\n",
       "            </p>\n",
       "</div>\n",
       "</div>\n",
       "<div class=\"person border rounded px-3 py-5 grid grid-cols-2 gap-x-3 bg-purple-50 hover:shadow-lg transition duration-500\">\n",
       "<h2 class=\"text-2xl text-purple-800 name col-span-full border-b\">Joshua Villanueva</h2>\n",
       "<p class=\"quote col-span-full px-5 py-5 text-center text-gray-500\">\n",
       "            \"Versatile responsive monitoring\"\n",
       "        </p>\n",
       "<div class=\"grid grid-cols-9\">\n",
       "<i class=\"bi bi-envelope-fill text-purple-800\"></i>\n",
       "<p class=\"email col-span-8\">timothymills@adams.com</p>\n",
       "<i class=\"bi bi-telephone-fill text-purple-800\"></i>\n",
       "<p class=\"phone col-span-8\">001-744-299-5989</p>\n",
       "</div>\n",
       "<div class=\"address grid grid-cols-9\">\n",
       "<i class=\"bi bi-geo-fill text-purple-800\"></i>\n",
       "<p class=\"col-span-8\">\n",
       "                5624 Jeffrey Fork <br/>\n",
       "                Port Tammy, WV 95861\n",
       "            </p>\n",
       "</div>\n",
       "</div>\n",
       "<div class=\"person border rounded px-3 py-5 grid grid-cols-2 gap-x-3 bg-purple-50 hover:shadow-lg transition duration-500\">\n",
       "<h2 class=\"text-2xl text-purple-800 name col-span-full border-b\">Katie Mcdonald</h2>\n",
       "<p class=\"quote col-span-full px-5 py-5 text-center text-gray-500\">\n",
       "            \"Multi-layered bifurcated challenge\"\n",
       "        </p>\n",
       "<div class=\"grid grid-cols-9\">\n",
       "<i class=\"bi bi-envelope-fill text-purple-800\"></i>\n",
       "<p class=\"email col-span-8\">shannonharris@gmail.com</p>\n",
       "<i class=\"bi bi-telephone-fill text-purple-800\"></i>\n",
       "<p class=\"phone col-span-8\">+1-949-443-5054x301</p>\n",
       "</div>\n",
       "<div class=\"address grid grid-cols-9\">\n",
       "<i class=\"bi bi-geo-fill text-purple-800\"></i>\n",
       "<p class=\"col-span-8\">\n",
       "                14399 Tyler Land <br/>\n",
       "                Joshuamouth, AR 51269\n",
       "            </p>\n",
       "</div>\n",
       "</div>\n",
       "</div>"
      ]
     },
     "execution_count": 132,
     "metadata": {},
     "output_type": "execute_result"
    }
   ],
   "source": [
    "soup.select('#people')[0]"
   ]
  },
  {
   "cell_type": "code",
   "execution_count": null,
   "metadata": {},
   "outputs": [],
   "source": []
  }
 ],
 "metadata": {
  "kernelspec": {
   "display_name": "Python 3",
   "language": "python",
   "name": "python3"
  },
  "language_info": {
   "codemirror_mode": {
    "name": "ipython",
    "version": 3
   },
   "file_extension": ".py",
   "mimetype": "text/x-python",
   "name": "python",
   "nbconvert_exporter": "python",
   "pygments_lexer": "ipython3",
   "version": "3.8.5"
  }
 },
 "nbformat": 4,
 "nbformat_minor": 4
}
