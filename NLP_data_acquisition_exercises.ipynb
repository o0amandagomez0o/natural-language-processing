{
 "cells": [
  {
   "cell_type": "markdown",
   "metadata": {},
   "source": [
    "# Exercises\n",
    "By the end of this exercise, you should have a file named `acquire.py` that contains the specified functions. If you wish, you may break your work into separate files for each website (e.g. `acquire_codeup_blog.py` and `acquire_news_articles.py`), but the end function should be present in acquire.py (that is, `acquire.py` should import `get_blog_articles` from the `acquire_codeup_blog module`.)"
   ]
  },
  {
   "cell_type": "code",
   "execution_count": 1,
   "metadata": {},
   "outputs": [],
   "source": [
    "import requests\n",
    "import bs4\n",
    "import pandas as pd\n"
   ]
  },
  {
   "cell_type": "markdown",
   "metadata": {},
   "source": [
    "## 1. Codeup Blog Articles\n",
    "\n",
    "Scrape the article text from the following pages:\n",
    "\n",
    "- https://codeup.com/codeups-data-science-career-accelerator-is-here/\n",
    "- https://codeup.com/data-science-myths/\n",
    "- https://codeup.com/data-science-vs-data-analytics-whats-the-difference/\n",
    "- https://codeup.com/10-tips-to-crush-it-at-the-sa-tech-job-fair/\n",
    "- https://codeup.com/competitor-bootcamps-are-closing-is-the-model-in-danger/\n",
    "\n",
    "Encapsulate your work in a function named `get_blog_articles` that will return a list of dictionaries, with each dictionary representing one article. The shape of each dictionary should look like this:\n",
    "\n",
    "```\n",
    "{\n",
    "    'title': 'the title of the article',\n",
    "    'content': 'the full text content of the article'\n",
    "}\n",
    "```"
   ]
  },
  {
   "cell_type": "code",
   "execution_count": 14,
   "metadata": {},
   "outputs": [],
   "source": [
    "url = 'https://codeup.com/codeups-data-science-career-accelerator-is-here'\n",
    "headers = {'User-Agent': 'Mozilla/5.0 (Macintosh; Intel Mac OS X 10_11_5) AppleWebKit/537.36 (KHTML, like Gecko) Chrome/50.0.2661.102 Safari/537.36'}\n",
    "response = requests.get(url, headers=headers)\n",
    "\n",
    "html = response.text\n",
    "soup = bs4.BeautifulSoup(html)"
   ]
  },
  {
   "cell_type": "code",
   "execution_count": 15,
   "metadata": {},
   "outputs": [
    {
     "data": {
      "text/plain": [
       "<Response [200]>"
      ]
     },
     "execution_count": 15,
     "metadata": {},
     "output_type": "execute_result"
    }
   ],
   "source": [
    "response"
   ]
  },
  {
   "cell_type": "code",
   "execution_count": 18,
   "metadata": {
    "scrolled": true
   },
   "outputs": [
    {
     "data": {
      "text/plain": [
       "<div class=\"jupiterx-primary col-lg-12\" id=\"jupiterx-primary\"><div class=\"jupiterx-content\" itemprop=\"mainEntityOfPage\" itemscope=\"itemscope\" itemtype=\"http://schema.org/Blog\" role=\"main\"><article class=\"jupiterx-post post-619 post type-post status-publish format-standard has-post-thumbnail hentry category-data-science-2 tag-codeup tag-coding-bootcamp tag-coding-bootcamps-that-teach-data-science tag-data-science\" id=\"619\" itemprop=\"blogPost\" itemscope=\"itemscope\" itemtype=\"http://schema.org/BlogPosting\"><header class=\"jupiterx-post-header\"><h1 class=\"jupiterx-post-title\" itemprop=\"headline\">Codeup’s Data Science Career Accelerator is Here!</h1><ul class=\"jupiterx-post-meta list-inline\"><li class=\"jupiterx-post-meta-date list-inline-item\"><span>Posted on </span><time datetime=\"2018-09-30T05:26:22+00:00\" itemprop=\"datePublished\">September 30, 2018</time></li><li class=\"jupiterx-post-meta-categories list-inline-item\"><span>In </span><a href=\"https://codeup.com/category/data-science-2/\" rel=\"category\">Data Science</a></li></ul></header><div class=\"jupiterx-post-body\" itemprop=\"articleBody\"><div class=\"jupiterx-post-image\"><picture><source media=\"(max-width: 480px)\" srcset=\"https://codeup.com/wp-content/uploads/jupiterx/images/Data-Science-7-7caeb29.png\"/><source media=\"(max-width: 800px)\" srcset=\"https://codeup.com/wp-content/uploads/jupiterx/images/Data-Science-7-cac6e0d.png\"/><img alt=\"\" class=\"lazyload\" data-src=\"https://codeup.com/wp-content/uploads/2018/10/Data-Science-7.png\" height=\"628\" itemprop=\"image\" src=\"data:image/gif;base64,R0lGODlhAQABAAAAACH5BAEKAAEALAAAAAABAAEAAAICTAEAOw==\" width=\"1200\"/><noscript><img alt=\"\" height=\"628\" itemprop=\"image\" src=\"https://codeup.com/wp-content/uploads/2018/10/Data-Science-7.png\" width=\"1200\"/></noscript></picture></div><div class=\"jupiterx-post-content clearfix\" itemprop=\"text\"><p>The rumors are true! The time has arrived. Codeup has officially opened applications to our new Data Science career accelerator, with only 25 seats available! This immersive program is one of a kind in San Antonio, and will help you land a job in <strong><a href=\"https://www.glassdoor.com/List/Best-Jobs-in-America-LST_KQ0,20.htm\">Glassdoor’s #1 Best Job in America</a></strong>.</p>\n",
       "<p><a href=\"https://tribucodeup.wpengine.com/what-is-data-science/\"><strong>Data Science is a method of providing actionable intelligence from data.</strong></a> The data revolution has hit San Antonio, <strong><a href=\"https://www.indeed.com/jobs?q=Data+Scientist&amp;l=San+Antonio%2C+TX\">resulting in an explosion in Data Scientist positions</a> </strong>across companies like USAA, Accenture, Booz Allen Hamilton, and HEB. We’ve even seen <strong><a href=\"https://therivardreport.com/utsa-lands-70m-for-cybersecurity-center-school-of-data-science/\">UTSA invest $70 M for a Cybersecurity Center and School of Data Science.</a> </strong>We built a program to specifically meet the growing demands of this industry.</p>\n",
       "<p>Our program will be 18 weeks long, full-time, hands-on, and project-based. Our curriculum development and instruction is led by Senior Data Scientist, Maggie Giust, who has worked at HEB, Capital Group, and Rackspace, along with input from dozens of practitioners and hiring partners. Students will work with real data sets, realistic problems, and the entire data science pipeline from collection to deployment. They will receive professional development training in resume writing, interviewing, and continuing education to prepare for a smooth transition to the workforce.</p>\n",
       "<p>We focus on applied data science for immediate impact and ROI in a business, which is how we can back it all up with a 6 month tuition refund guarantee – just like our existing Web Dev program. We’re focusing on Data Science with Python, SQL, and ML, covered in <strong>14 modules</strong>: 1) Fundamentals; 2) Applied statistics; 3) SQL; 4) Python; 5) Supervised machine learning – regression; 6) Supervised machine learning – classification; 7) Unsupervised machine learning – clustering; 8) Time series analysis; 9) Anomaly detection; 10) Natural language processing; 11) Distributed machine learning; 12) Advanced topics (deep learning, NoSQL, cloud deployment, etc.); 13) Storytelling with data; and 14) Domain expertise development.</p>\n",
       "<p><strong>Applications are now open</strong> for Codeup’s first Data Science cohort, which will start class on February 4, 2019. Hurry – there are only 25 seats available! To further our mission of cultivating inclusive growth, scholarships will be available to women, minorities, LGBTQIA+ individuals, veterans, first responders, and people relocating to San Antonio.</p>\n",
       "<p>If you want to learn about <a href=\"http://codeup.com/apply\">joining our program</a> or <a href=\"https://alumni.codeup.com/\">hiring our graduates</a>, email datascience@codeup.com!</p>\n",
       "<!--<rdf:RDF xmlns:rdf=\"http://www.w3.org/1999/02/22-rdf-syntax-ns#\"\n",
       "\t\t\txmlns:dc=\"http://purl.org/dc/elements/1.1/\"\n",
       "\t\t\txmlns:trackback=\"http://madskills.com/public/xml/rss/module/trackback/\">\n",
       "\t\t<rdf:Description rdf:about=\"https://codeup.com/codeups-data-science-career-accelerator-is-here/\"\n",
       "    dc:identifier=\"https://codeup.com/codeups-data-science-career-accelerator-is-here/\"\n",
       "    dc:title=\"Codeup’s Data Science Career Accelerator is Here!\"\n",
       "    trackback:ping=\"https://codeup.com/codeups-data-science-career-accelerator-is-here/trackback/\" />\n",
       "</rdf:RDF>-->\n",
       "</div><div class=\"jupiterx-social-share jupiterx-social-share-post\"><div class=\"jupiterx-social-share-inner\"><a aria-label=\"Share on Facebook\" class=\"jupiterx-social-share-link btn jupiterx-social-share-facebook\" href=\"https://facebook.com/sharer/sharer.php?u=https://codeup.com/codeups-data-science-career-accelerator-is-here/\" target=\"_blank\"><span class=\"jupiterx-icon jupiterx-icon-facebook-f\"></span><span class=\"jupiterx-social-share-link-name\">Facebook</span></a><a aria-label=\"Share on Twitter\" class=\"jupiterx-social-share-link btn jupiterx-social-share-twitter\" href=\"https://twitter.com/intent/tweet/?text=Codeup’s%20Data%20Science%20Career%20Accelerator%20is%20Here!&amp;url=https://codeup.com/codeups-data-science-career-accelerator-is-here/\" target=\"_blank\"><span class=\"jupiterx-icon jupiterx-icon-twitter\"></span><span class=\"jupiterx-social-share-link-name\">Twitter</span></a><a aria-label=\"Share on LinkedIn\" class=\"jupiterx-social-share-link btn jupiterx-social-share-linkedin\" href=\"https://www.linkedin.com/shareArticle?mini=true&amp;url=https://codeup.com/codeups-data-science-career-accelerator-is-here/&amp;title=Codeup’s%20Data%20Science%20Career%20Accelerator%20is%20Here!&amp;summary=Codeup’s%20Data%20Science%20Career%20Accelerator%20is%20Here!&amp;source=https://codeup.com/codeups-data-science-career-accelerator-is-here/\" target=\"_blank\"><span class=\"jupiterx-icon jupiterx-icon-linkedin-in\"></span><span class=\"jupiterx-social-share-link-name\">LinkedIn</span></a></div></div></div></article><div class=\"jupiterx-post-related\"><h2 class=\"jupiterx-post-related-label\">Recommended Posts</h2><div class=\"row\"><div class=\"col-md-6 col-lg-3\"><a class=\"card\" href=\"https://codeup.com/why-you-should-become-a-data-scientist/\"><img alt=\"Why You Should Become a Data Scientist\" class=\"attachment-medium size-medium wp-post-image lazyload\" data-object-fit=\"cover\" data-sizes=\"(max-width: 300px) 100vw, 300px\" data-src=\"https://codeup.com/wp-content/uploads/2021/03/Blog_WhyYouShouldBecomeADS_1200x628-300x157.png\" data-srcset=\"https://codeup.com/wp-content/uploads/2021/03/Blog_WhyYouShouldBecomeADS_1200x628-300x157.png 300w, https://codeup.com/wp-content/uploads/2021/03/Blog_WhyYouShouldBecomeADS_1200x628-1024x536.png 1024w, https://codeup.com/wp-content/uploads/2021/03/Blog_WhyYouShouldBecomeADS_1200x628-768x402.png 768w, https://codeup.com/wp-content/uploads/2021/03/Blog_WhyYouShouldBecomeADS_1200x628.png 1200w\" height=\"157\" loading=\"lazy\" src=\"data:image/gif;base64,R0lGODlhAQABAAAAACH5BAEKAAEALAAAAAABAAEAAAICTAEAOw==\" width=\"300\"/><noscript><img alt=\"Why You Should Become a Data Scientist\" class=\"attachment-medium size-medium wp-post-image\" data-object-fit=\"cover\" height=\"157\" loading=\"lazy\" sizes=\"(max-width: 300px) 100vw, 300px\" src=\"https://codeup.com/wp-content/uploads/2021/03/Blog_WhyYouShouldBecomeADS_1200x628-300x157.png\" srcset=\"https://codeup.com/wp-content/uploads/2021/03/Blog_WhyYouShouldBecomeADS_1200x628-300x157.png 300w, https://codeup.com/wp-content/uploads/2021/03/Blog_WhyYouShouldBecomeADS_1200x628-1024x536.png 1024w, https://codeup.com/wp-content/uploads/2021/03/Blog_WhyYouShouldBecomeADS_1200x628-768x402.png 768w, https://codeup.com/wp-content/uploads/2021/03/Blog_WhyYouShouldBecomeADS_1200x628.png 1200w\" width=\"300\"/></noscript><div class=\"card-body\"><h6 class=\"card-title\">Why You Should Become a Data Scientist</h6></div></a></div><div class=\"col-md-6 col-lg-3\"><a class=\"card\" href=\"https://codeup.com/math-in-data-science/\"><img alt=\"Is there math in data science? Read our blog to learn how much math you need!\" class=\"attachment-medium size-medium wp-post-image lazyload\" data-object-fit=\"cover\" data-sizes=\"(max-width: 300px) 100vw, 300px\" data-src=\"https://codeup.com/wp-content/uploads/2020/10/Blog_MathStatsReg_1200x628-1-300x157.png\" data-srcset=\"https://codeup.com/wp-content/uploads/2020/10/Blog_MathStatsReg_1200x628-1-300x157.png 300w, https://codeup.com/wp-content/uploads/2020/10/Blog_MathStatsReg_1200x628-1-1024x536.png 1024w, https://codeup.com/wp-content/uploads/2020/10/Blog_MathStatsReg_1200x628-1-768x402.png 768w, https://codeup.com/wp-content/uploads/2020/10/Blog_MathStatsReg_1200x628-1.png 1200w\" height=\"157\" loading=\"lazy\" src=\"data:image/gif;base64,R0lGODlhAQABAAAAACH5BAEKAAEALAAAAAABAAEAAAICTAEAOw==\" width=\"300\"/><noscript><img alt=\"Is there math in data science? Read our blog to learn how much math you need!\" class=\"attachment-medium size-medium wp-post-image\" data-object-fit=\"cover\" height=\"157\" loading=\"lazy\" sizes=\"(max-width: 300px) 100vw, 300px\" src=\"https://codeup.com/wp-content/uploads/2020/10/Blog_MathStatsReg_1200x628-1-300x157.png\" srcset=\"https://codeup.com/wp-content/uploads/2020/10/Blog_MathStatsReg_1200x628-1-300x157.png 300w, https://codeup.com/wp-content/uploads/2020/10/Blog_MathStatsReg_1200x628-1-1024x536.png 1024w, https://codeup.com/wp-content/uploads/2020/10/Blog_MathStatsReg_1200x628-1-768x402.png 768w, https://codeup.com/wp-content/uploads/2020/10/Blog_MathStatsReg_1200x628-1.png 1200w\" width=\"300\"/></noscript><div class=\"card-body\"><h6 class=\"card-title\">What are the Math and Stats Principles You Need for Data Science?</h6></div></a></div><div class=\"col-md-6 col-lg-3\"><a class=\"card\" href=\"https://codeup.com/transition-into-data-science/\"><img alt=\"What is the transition into data science like? Our alumni Katy Salts and Brandi Reger share their experience!\" class=\"attachment-medium size-medium wp-post-image lazyload\" data-object-fit=\"cover\" data-sizes=\"(max-width: 300px) 100vw, 300px\" data-src=\"https://codeup.com/wp-content/uploads/2020/09/Blog_DSTransitionRecap_1200x628-1-300x157.png\" data-srcset=\"https://codeup.com/wp-content/uploads/2020/09/Blog_DSTransitionRecap_1200x628-1-300x157.png 300w, https://codeup.com/wp-content/uploads/2020/09/Blog_DSTransitionRecap_1200x628-1-1024x536.png 1024w, https://codeup.com/wp-content/uploads/2020/09/Blog_DSTransitionRecap_1200x628-1-768x402.png 768w, https://codeup.com/wp-content/uploads/2020/09/Blog_DSTransitionRecap_1200x628-1.png 1200w\" height=\"157\" loading=\"lazy\" src=\"data:image/gif;base64,R0lGODlhAQABAAAAACH5BAEKAAEALAAAAAABAAEAAAICTAEAOw==\" width=\"300\"/><noscript><img alt=\"What is the transition into data science like? Our alumni Katy Salts and Brandi Reger share their experience!\" class=\"attachment-medium size-medium wp-post-image\" data-object-fit=\"cover\" height=\"157\" loading=\"lazy\" sizes=\"(max-width: 300px) 100vw, 300px\" src=\"https://codeup.com/wp-content/uploads/2020/09/Blog_DSTransitionRecap_1200x628-1-300x157.png\" srcset=\"https://codeup.com/wp-content/uploads/2020/09/Blog_DSTransitionRecap_1200x628-1-300x157.png 300w, https://codeup.com/wp-content/uploads/2020/09/Blog_DSTransitionRecap_1200x628-1-1024x536.png 1024w, https://codeup.com/wp-content/uploads/2020/09/Blog_DSTransitionRecap_1200x628-1-768x402.png 768w, https://codeup.com/wp-content/uploads/2020/09/Blog_DSTransitionRecap_1200x628-1.png 1200w\" width=\"300\"/></noscript><div class=\"card-body\"><h6 class=\"card-title\">What is the Transition into Data Science Like?</h6></div></a></div><div class=\"col-md-6 col-lg-3\"><a class=\"card\" href=\"https://codeup.com/data-science-career/\"><img alt=\"What data science career is for you? Read our blog to learn about roles available throughout the data science pipeline.\" class=\"attachment-medium size-medium wp-post-image lazyload\" data-object-fit=\"cover\" data-sizes=\"(max-width: 300px) 100vw, 300px\" data-src=\"https://codeup.com/wp-content/uploads/2020/09/LI_DSCareer_1200x628-300x157.png\" data-srcset=\"https://codeup.com/wp-content/uploads/2020/09/LI_DSCareer_1200x628-300x157.png 300w, https://codeup.com/wp-content/uploads/2020/09/LI_DSCareer_1200x628-1024x536.png 1024w, https://codeup.com/wp-content/uploads/2020/09/LI_DSCareer_1200x628-768x402.png 768w, https://codeup.com/wp-content/uploads/2020/09/LI_DSCareer_1200x628.png 1200w\" height=\"157\" loading=\"lazy\" src=\"data:image/gif;base64,R0lGODlhAQABAAAAACH5BAEKAAEALAAAAAABAAEAAAICTAEAOw==\" width=\"300\"/><noscript><img alt=\"What data science career is for you? Read our blog to learn about roles available throughout the data science pipeline.\" class=\"attachment-medium size-medium wp-post-image\" data-object-fit=\"cover\" height=\"157\" loading=\"lazy\" sizes=\"(max-width: 300px) 100vw, 300px\" src=\"https://codeup.com/wp-content/uploads/2020/09/LI_DSCareer_1200x628-300x157.png\" srcset=\"https://codeup.com/wp-content/uploads/2020/09/LI_DSCareer_1200x628-300x157.png 300w, https://codeup.com/wp-content/uploads/2020/09/LI_DSCareer_1200x628-1024x536.png 1024w, https://codeup.com/wp-content/uploads/2020/09/LI_DSCareer_1200x628-768x402.png 768w, https://codeup.com/wp-content/uploads/2020/09/LI_DSCareer_1200x628.png 1200w\" width=\"300\"/></noscript><div class=\"card-body\"><h6 class=\"card-title\">What Data Science Career is For You?</h6></div></a></div></div></div></div></div>"
      ]
     },
     "execution_count": 18,
     "metadata": {},
     "output_type": "execute_result"
    }
   ],
   "source": [
    "soup.select('#jupiterx-primary')[0]"
   ]
  },
  {
   "cell_type": "code",
   "execution_count": 19,
   "metadata": {},
   "outputs": [],
   "source": [
    "articles_container = soup.select('#jupiterx-primary')[0]"
   ]
  },
  {
   "cell_type": "code",
   "execution_count": 22,
   "metadata": {
    "scrolled": true
   },
   "outputs": [
    {
     "data": {
      "text/plain": [
       "[<article class=\"jupiterx-post post-619 post type-post status-publish format-standard has-post-thumbnail hentry category-data-science-2 tag-codeup tag-coding-bootcamp tag-coding-bootcamps-that-teach-data-science tag-data-science\" id=\"619\" itemprop=\"blogPost\" itemscope=\"itemscope\" itemtype=\"http://schema.org/BlogPosting\"><header class=\"jupiterx-post-header\"><h1 class=\"jupiterx-post-title\" itemprop=\"headline\">Codeup’s Data Science Career Accelerator is Here!</h1><ul class=\"jupiterx-post-meta list-inline\"><li class=\"jupiterx-post-meta-date list-inline-item\"><span>Posted on </span><time datetime=\"2018-09-30T05:26:22+00:00\" itemprop=\"datePublished\">September 30, 2018</time></li><li class=\"jupiterx-post-meta-categories list-inline-item\"><span>In </span><a href=\"https://codeup.com/category/data-science-2/\" rel=\"category\">Data Science</a></li></ul></header><div class=\"jupiterx-post-body\" itemprop=\"articleBody\"><div class=\"jupiterx-post-image\"><picture><source media=\"(max-width: 480px)\" srcset=\"https://codeup.com/wp-content/uploads/jupiterx/images/Data-Science-7-7caeb29.png\"/><source media=\"(max-width: 800px)\" srcset=\"https://codeup.com/wp-content/uploads/jupiterx/images/Data-Science-7-cac6e0d.png\"/><img alt=\"\" class=\"lazyload\" data-src=\"https://codeup.com/wp-content/uploads/2018/10/Data-Science-7.png\" height=\"628\" itemprop=\"image\" src=\"data:image/gif;base64,R0lGODlhAQABAAAAACH5BAEKAAEALAAAAAABAAEAAAICTAEAOw==\" width=\"1200\"/><noscript><img alt=\"\" height=\"628\" itemprop=\"image\" src=\"https://codeup.com/wp-content/uploads/2018/10/Data-Science-7.png\" width=\"1200\"/></noscript></picture></div><div class=\"jupiterx-post-content clearfix\" itemprop=\"text\"><p>The rumors are true! The time has arrived. Codeup has officially opened applications to our new Data Science career accelerator, with only 25 seats available! This immersive program is one of a kind in San Antonio, and will help you land a job in <strong><a href=\"https://www.glassdoor.com/List/Best-Jobs-in-America-LST_KQ0,20.htm\">Glassdoor’s #1 Best Job in America</a></strong>.</p>\n",
       " <p><a href=\"https://tribucodeup.wpengine.com/what-is-data-science/\"><strong>Data Science is a method of providing actionable intelligence from data.</strong></a> The data revolution has hit San Antonio, <strong><a href=\"https://www.indeed.com/jobs?q=Data+Scientist&amp;l=San+Antonio%2C+TX\">resulting in an explosion in Data Scientist positions</a> </strong>across companies like USAA, Accenture, Booz Allen Hamilton, and HEB. We’ve even seen <strong><a href=\"https://therivardreport.com/utsa-lands-70m-for-cybersecurity-center-school-of-data-science/\">UTSA invest $70 M for a Cybersecurity Center and School of Data Science.</a> </strong>We built a program to specifically meet the growing demands of this industry.</p>\n",
       " <p>Our program will be 18 weeks long, full-time, hands-on, and project-based. Our curriculum development and instruction is led by Senior Data Scientist, Maggie Giust, who has worked at HEB, Capital Group, and Rackspace, along with input from dozens of practitioners and hiring partners. Students will work with real data sets, realistic problems, and the entire data science pipeline from collection to deployment. They will receive professional development training in resume writing, interviewing, and continuing education to prepare for a smooth transition to the workforce.</p>\n",
       " <p>We focus on applied data science for immediate impact and ROI in a business, which is how we can back it all up with a 6 month tuition refund guarantee – just like our existing Web Dev program. We’re focusing on Data Science with Python, SQL, and ML, covered in <strong>14 modules</strong>: 1) Fundamentals; 2) Applied statistics; 3) SQL; 4) Python; 5) Supervised machine learning – regression; 6) Supervised machine learning – classification; 7) Unsupervised machine learning – clustering; 8) Time series analysis; 9) Anomaly detection; 10) Natural language processing; 11) Distributed machine learning; 12) Advanced topics (deep learning, NoSQL, cloud deployment, etc.); 13) Storytelling with data; and 14) Domain expertise development.</p>\n",
       " <p><strong>Applications are now open</strong> for Codeup’s first Data Science cohort, which will start class on February 4, 2019. Hurry – there are only 25 seats available! To further our mission of cultivating inclusive growth, scholarships will be available to women, minorities, LGBTQIA+ individuals, veterans, first responders, and people relocating to San Antonio.</p>\n",
       " <p>If you want to learn about <a href=\"http://codeup.com/apply\">joining our program</a> or <a href=\"https://alumni.codeup.com/\">hiring our graduates</a>, email datascience@codeup.com!</p>\n",
       " <!--<rdf:RDF xmlns:rdf=\"http://www.w3.org/1999/02/22-rdf-syntax-ns#\"\n",
       " \t\t\txmlns:dc=\"http://purl.org/dc/elements/1.1/\"\n",
       " \t\t\txmlns:trackback=\"http://madskills.com/public/xml/rss/module/trackback/\">\n",
       " \t\t<rdf:Description rdf:about=\"https://codeup.com/codeups-data-science-career-accelerator-is-here/\"\n",
       "     dc:identifier=\"https://codeup.com/codeups-data-science-career-accelerator-is-here/\"\n",
       "     dc:title=\"Codeup’s Data Science Career Accelerator is Here!\"\n",
       "     trackback:ping=\"https://codeup.com/codeups-data-science-career-accelerator-is-here/trackback/\" />\n",
       " </rdf:RDF>-->\n",
       " </div><div class=\"jupiterx-social-share jupiterx-social-share-post\"><div class=\"jupiterx-social-share-inner\"><a aria-label=\"Share on Facebook\" class=\"jupiterx-social-share-link btn jupiterx-social-share-facebook\" href=\"https://facebook.com/sharer/sharer.php?u=https://codeup.com/codeups-data-science-career-accelerator-is-here/\" target=\"_blank\"><span class=\"jupiterx-icon jupiterx-icon-facebook-f\"></span><span class=\"jupiterx-social-share-link-name\">Facebook</span></a><a aria-label=\"Share on Twitter\" class=\"jupiterx-social-share-link btn jupiterx-social-share-twitter\" href=\"https://twitter.com/intent/tweet/?text=Codeup’s%20Data%20Science%20Career%20Accelerator%20is%20Here!&amp;url=https://codeup.com/codeups-data-science-career-accelerator-is-here/\" target=\"_blank\"><span class=\"jupiterx-icon jupiterx-icon-twitter\"></span><span class=\"jupiterx-social-share-link-name\">Twitter</span></a><a aria-label=\"Share on LinkedIn\" class=\"jupiterx-social-share-link btn jupiterx-social-share-linkedin\" href=\"https://www.linkedin.com/shareArticle?mini=true&amp;url=https://codeup.com/codeups-data-science-career-accelerator-is-here/&amp;title=Codeup’s%20Data%20Science%20Career%20Accelerator%20is%20Here!&amp;summary=Codeup’s%20Data%20Science%20Career%20Accelerator%20is%20Here!&amp;source=https://codeup.com/codeups-data-science-career-accelerator-is-here/\" target=\"_blank\"><span class=\"jupiterx-icon jupiterx-icon-linkedin-in\"></span><span class=\"jupiterx-social-share-link-name\">LinkedIn</span></a></div></div></div></article>]"
      ]
     },
     "execution_count": 22,
     "metadata": {},
     "output_type": "execute_result"
    }
   ],
   "source": [
    "articles_container.select('.jupiterx-post')"
   ]
  },
  {
   "cell_type": "code",
   "execution_count": 23,
   "metadata": {},
   "outputs": [],
   "source": [
    "article = articles_container.select('.jupiterx-post')"
   ]
  },
  {
   "cell_type": "code",
   "execution_count": 26,
   "metadata": {},
   "outputs": [],
   "source": [
    "article = article[0]"
   ]
  },
  {
   "cell_type": "code",
   "execution_count": 27,
   "metadata": {},
   "outputs": [
    {
     "data": {
      "text/plain": [
       "'Codeup’s Data Science Career Accelerator is Here!'"
      ]
     },
     "execution_count": 27,
     "metadata": {},
     "output_type": "execute_result"
    }
   ],
   "source": [
    "article.find('h1').text"
   ]
  },
  {
   "cell_type": "code",
   "execution_count": 28,
   "metadata": {},
   "outputs": [],
   "source": [
    "title = article.find('h1').text"
   ]
  },
  {
   "cell_type": "code",
   "execution_count": 29,
   "metadata": {},
   "outputs": [
    {
     "data": {
      "text/plain": [
       "'Posted on September 30, 2018In Data Science'"
      ]
     },
     "execution_count": 29,
     "metadata": {},
     "output_type": "execute_result"
    }
   ],
   "source": [
    "article.find('ul').text"
   ]
  },
  {
   "cell_type": "code",
   "execution_count": 30,
   "metadata": {},
   "outputs": [],
   "source": [
    "time_link = article.find('ul').text"
   ]
  },
  {
   "cell_type": "code",
   "execution_count": 36,
   "metadata": {},
   "outputs": [
    {
     "data": {
      "text/plain": [
       "'Posted on September 30, 2018'"
      ]
     },
     "execution_count": 36,
     "metadata": {},
     "output_type": "execute_result"
    }
   ],
   "source": [
    "time = article.find(class_='jupiterx-post-meta-date').text"
   ]
  },
  {
   "cell_type": "code",
   "execution_count": 37,
   "metadata": {},
   "outputs": [
    {
     "data": {
      "text/plain": [
       "'In Data Science'"
      ]
     },
     "execution_count": 37,
     "metadata": {},
     "output_type": "execute_result"
    }
   ],
   "source": [
    "category = article.find(class_='jupiterx-post-meta-categories').text"
   ]
  },
  {
   "cell_type": "code",
   "execution_count": 39,
   "metadata": {},
   "outputs": [
    {
     "data": {
      "text/plain": [
       "<div class=\"jupiterx-post-image\"><picture><source media=\"(max-width: 480px)\" srcset=\"https://codeup.com/wp-content/uploads/jupiterx/images/Data-Science-7-7caeb29.png\"/><source media=\"(max-width: 800px)\" srcset=\"https://codeup.com/wp-content/uploads/jupiterx/images/Data-Science-7-cac6e0d.png\"/><img alt=\"\" class=\"lazyload\" data-src=\"https://codeup.com/wp-content/uploads/2018/10/Data-Science-7.png\" height=\"628\" itemprop=\"image\" src=\"data:image/gif;base64,R0lGODlhAQABAAAAACH5BAEKAAEALAAAAAABAAEAAAICTAEAOw==\" width=\"1200\"/><noscript><img alt=\"\" height=\"628\" itemprop=\"image\" src=\"https://codeup.com/wp-content/uploads/2018/10/Data-Science-7.png\" width=\"1200\"/></noscript></picture></div>"
      ]
     },
     "execution_count": 39,
     "metadata": {},
     "output_type": "execute_result"
    }
   ],
   "source": [
    "article.find(class_='jupiterx-post-image')"
   ]
  },
  {
   "cell_type": "code",
   "execution_count": 40,
   "metadata": {
    "scrolled": true
   },
   "outputs": [
    {
     "data": {
      "text/plain": [
       "'The rumors are true! The time has arrived. Codeup has officially opened applications to our new Data Science career accelerator, with only 25 seats available! This immersive program is one of a kind in San Antonio, and will help you land a job in\\xa0Glassdoor’s #1 Best Job in America.\\nData Science is a method of providing actionable intelligence from data.\\xa0The data revolution has hit San Antonio,\\xa0resulting in an explosion in Data Scientist positions\\xa0across companies like USAA, Accenture, Booz Allen Hamilton, and HEB. We’ve even seen\\xa0UTSA invest $70 M for a Cybersecurity Center and School of Data Science.\\xa0We built a program to specifically meet the growing demands of this industry.\\nOur program will be 18 weeks long, full-time, hands-on, and project-based. Our curriculum development and instruction is led by Senior Data Scientist, Maggie Giust, who has worked at HEB, Capital Group, and Rackspace, along with input from dozens of practitioners and hiring partners. Students will work with real data sets, realistic problems, and the entire data science pipeline from collection to deployment. They will receive professional development training in resume writing, interviewing, and continuing education to prepare for a smooth transition to the workforce.\\nWe focus on applied data science for immediate impact and ROI in a business, which is how we can back it all up with a 6 month tuition refund guarantee – just like our existing Web Dev program. We’re focusing on Data Science with Python, SQL, and ML, covered in\\xa014 modules: 1) Fundamentals; 2) Applied statistics; 3) SQL; 4) Python; 5) Supervised machine learning – regression; 6) Supervised machine learning – classification; 7) Unsupervised machine learning – clustering; 8) Time series analysis; 9) Anomaly detection; 10) Natural language processing; 11) Distributed machine learning; 12) Advanced topics (deep learning, NoSQL, cloud deployment, etc.); 13) Storytelling with data; and 14) Domain expertise development.\\nApplications are now open\\xa0for Codeup’s first Data Science cohort, which will start class on February 4, 2019. Hurry – there are only 25 seats available! To further our mission of cultivating inclusive growth, scholarships will be available to women, minorities, LGBTQIA+ individuals, veterans, first responders, and people relocating to San Antonio.\\nIf you want to learn about joining our program or hiring our graduates, email datascience@codeup.com!\\n\\n'"
      ]
     },
     "execution_count": 40,
     "metadata": {},
     "output_type": "execute_result"
    }
   ],
   "source": [
    "body = article.find(class_='jupiterx-post-content').text"
   ]
  },
  {
   "cell_type": "code",
   "execution_count": 2,
   "metadata": {},
   "outputs": [],
   "source": [
    "sites = [\"https://codeup.com/codeups-data-science-career-accelerator-is-here/\", \n",
    "         \"https://codeup.com/data-science-myths/\", \n",
    "         \"https://codeup.com/data-science-vs-data-analytics-whats-the-difference/\", \n",
    "         \"https://codeup.com/10-tips-to-crush-it-at-the-sa-tech-job-fair/\", \n",
    "         \"https://codeup.com/competitor-bootcamps-are-closing-is-the-model-in-danger/\"]"
   ]
  },
  {
   "cell_type": "code",
   "execution_count": 67,
   "metadata": {},
   "outputs": [],
   "source": [
    "def sites_loop(sites):\n",
    "    headers = {'User-Agent': 'Mozilla/5.0 (Macintosh; Intel Mac OS X 10_11_5) AppleWebKit/537.36 (KHTML, like Gecko) Chrome/50.0.2661.102 Safari/537.36'}\n",
    "    for site in sites:\n",
    "        url = site\n",
    "        response = requests.get(url, headers=headers)\n",
    "        soup = bs4.BeautifulSoup(response.text)\n",
    "        \n",
    "        return site"
   ]
  },
  {
   "cell_type": "code",
   "execution_count": 68,
   "metadata": {},
   "outputs": [
    {
     "data": {
      "text/plain": [
       "'https://codeup.com/codeups-data-science-career-accelerator-is-here/'"
      ]
     },
     "execution_count": 68,
     "metadata": {},
     "output_type": "execute_result"
    }
   ],
   "source": [
    "sites_loop(sites)"
   ]
  },
  {
   "cell_type": "code",
   "execution_count": 79,
   "metadata": {},
   "outputs": [
    {
     "data": {
      "text/plain": [
       "'https://codeup.com/data-science-vs-data-analytics-whats-the-difference/'"
      ]
     },
     "execution_count": 79,
     "metadata": {},
     "output_type": "execute_result"
    }
   ],
   "source": [
    "sites"
   ]
  },
  {
   "cell_type": "code",
   "execution_count": 7,
   "metadata": {},
   "outputs": [],
   "source": [
    "def get_blog_articles(site):\n",
    "    \"\"\"\n",
    "    This function takes in a Codeup websiteand scrapes\n",
    "    - Article title\n",
    "    - date posted\n",
    "    - category\n",
    "    - article content\n",
    "    returns as a dictionary\n",
    "    \"\"\"\n",
    "    headers = {'User-Agent': 'Mozilla/5.0 (Macintosh; Intel Mac OS X 10_11_5) AppleWebKit/537.36 (KHTML, like Gecko) Chrome/50.0.2661.102 Safari/537.36'}\n",
    "    url = site\n",
    "    response = requests.get(url, headers=headers)\n",
    "    soup = bs4.BeautifulSoup(response.text)\n",
    "    \n",
    "    articles_container = soup.select('#jupiterx-primary')[0]\n",
    "    article = articles_container.select('.jupiterx-post')\n",
    "    article = article[0]\n",
    "             \n",
    "    title = article.find('h1').text\n",
    "    time = article.find(class_='jupiterx-post-meta-date').text\n",
    "    category = article.find(class_='jupiterx-post-meta-categories').text\n",
    "    body = article.find(class_='jupiterx-post-content').text\n",
    "    return {\n",
    "        \n",
    "        'title': title,\n",
    "        \"date posted\": time,\n",
    "        \"category\": category,\n",
    "        \"content\": body\n",
    "\n",
    "    }"
   ]
  },
  {
   "cell_type": "code",
   "execution_count": 9,
   "metadata": {},
   "outputs": [
    {
     "data": {
      "text/plain": [
       "{'title': 'Competitor Bootcamps Are Closing. Is the Model in Danger?',\n",
       " 'date posted': 'Posted on August 14, 2018',\n",
       " 'category': 'In Codeup News',\n",
       " 'content': 'Competitor Bootcamps Are Closing. Is the Model in Danger?\\n\\xa0\\n\\nIs the programming bootcamp model in danger?\\nIn recent news, DevBootcamp and The Iron Yard announced that they are closing their doors. This is big news. DevBootcamp was the first programming bootcamp model and The Iron Yard is a national player with 15 campuses across the U.S. In both cases, the companies cited an unsustainable business model. Does that mean the boot-camp model is dead?\\n\\ntl;dr “Nope!”\\nBootcamps exist because traditional education models have failed to provide students job-ready skills for the 21st century. Students demand better employment options from their education. Employers demand skilled and job ready candidates. Big Education’s failure to meet those needs through traditional methods created the fertile ground for the new business model of the programming bootcamp.\\nEducation giant Kaplan and Apollo Education Group (owner of University of Phoenix) bought their way into this new educational model when they purchased The Iron Yard and DevBootcamp. They purchased their competition with the intent to scale up the model. Unfortunately, Big Education is too habituated to coming up short for students. They bought the upstarts that challenged them, tried making changes to run those bootcamps in the “Big Education” way, and, sadly, they’ve closed the doors when they realized that scaling education is more challenging when student outcomes truly matter.\\nThe bootcamp model is still new and there will be plenty consolidation, competition, and changes in the future. This model is based on actually being adaptive, innovative, and sustainable. And there’s always room for innovation.\\n\\n\\nWhat we’ve learned at Codeup…\\n\\n\\nEducation is challenging to scale.\\nPrioritizing quality over growth pays off.\\n\\nWhat we’re doing at Codeup…\\n\\nHigher standards in our application process are leading to better student outcomes.\\nOur reputation and commitment to quality is opening new doors to previously uninterested/unreachable employers.\\nIn the beginning, the majority of Codeup graduates went to work with startups and small businesses. We’re now seeing a larger amount of our graduates place at medium to large sized businesses.\\nDemand is growing and employers are learning that the results are in the graduates.\\nCodeup’s model is sustainable, inclusive, and works.\\n\\nCall or contact us today to see how Codeup’s commitment to quality and approach to being a career accelerator can make a profound difference in your life.\\n\\n'}"
      ]
     },
     "execution_count": 9,
     "metadata": {},
     "output_type": "execute_result"
    }
   ],
   "source": [
    "get_blog_articles(sites[4])     "
   ]
  },
  {
   "cell_type": "code",
   "execution_count": 18,
   "metadata": {},
   "outputs": [],
   "source": [
    "def loop_blog_articles(sites): \n",
    "    \"\"\"\n",
    "    This function takes in a list of codeup sites\n",
    "    Creates an empty list\n",
    "    appends dictionary created by `get_blog_articles` consisting of:\n",
    "    - Article title\n",
    "    - date posted\n",
    "    - category\n",
    "    - article content\n",
    "    Loops through list of sites \n",
    "    returns list of appended dictionaries.\n",
    "    \"\"\"\n",
    "    \n",
    "    sites = [\"https://codeup.com/codeups-data-science-career-accelerator-is-here/\", \n",
    "         \"https://codeup.com/data-science-myths/\", \n",
    "         \"https://codeup.com/data-science-vs-data-analytics-whats-the-difference/\", \n",
    "         \"https://codeup.com/10-tips-to-crush-it-at-the-sa-tech-job-fair/\", \n",
    "         \"https://codeup.com/competitor-bootcamps-are-closing-is-the-model-in-danger/\"]\n",
    "    list_of_dicts = []\n",
    "    \n",
    "    for site in sites:\n",
    "        blog_dictionary = get_blog_articles(site)\n",
    "        list_of_dicts.append(blog_dictionary)\n",
    "        \n",
    "    return list_of_dicts"
   ]
  },
  {
   "cell_type": "code",
   "execution_count": 19,
   "metadata": {
    "scrolled": true
   },
   "outputs": [
    {
     "data": {
      "text/plain": [
       "[{'title': 'Codeup’s Data Science Career Accelerator is Here!',\n",
       "  'date posted': 'Posted on September 30, 2018',\n",
       "  'category': 'In Data Science',\n",
       "  'content': 'The rumors are true! The time has arrived. Codeup has officially opened applications to our new Data Science career accelerator, with only 25 seats available! This immersive program is one of a kind in San Antonio, and will help you land a job in\\xa0Glassdoor’s #1 Best Job in America.\\nData Science is a method of providing actionable intelligence from data.\\xa0The data revolution has hit San Antonio,\\xa0resulting in an explosion in Data Scientist positions\\xa0across companies like USAA, Accenture, Booz Allen Hamilton, and HEB. We’ve even seen\\xa0UTSA invest $70 M for a Cybersecurity Center and School of Data Science.\\xa0We built a program to specifically meet the growing demands of this industry.\\nOur program will be 18 weeks long, full-time, hands-on, and project-based. Our curriculum development and instruction is led by Senior Data Scientist, Maggie Giust, who has worked at HEB, Capital Group, and Rackspace, along with input from dozens of practitioners and hiring partners. Students will work with real data sets, realistic problems, and the entire data science pipeline from collection to deployment. They will receive professional development training in resume writing, interviewing, and continuing education to prepare for a smooth transition to the workforce.\\nWe focus on applied data science for immediate impact and ROI in a business, which is how we can back it all up with a 6 month tuition refund guarantee – just like our existing Web Dev program. We’re focusing on Data Science with Python, SQL, and ML, covered in\\xa014 modules: 1) Fundamentals; 2) Applied statistics; 3) SQL; 4) Python; 5) Supervised machine learning – regression; 6) Supervised machine learning – classification; 7) Unsupervised machine learning – clustering; 8) Time series analysis; 9) Anomaly detection; 10) Natural language processing; 11) Distributed machine learning; 12) Advanced topics (deep learning, NoSQL, cloud deployment, etc.); 13) Storytelling with data; and 14) Domain expertise development.\\nApplications are now open\\xa0for Codeup’s first Data Science cohort, which will start class on February 4, 2019. Hurry – there are only 25 seats available! To further our mission of cultivating inclusive growth, scholarships will be available to women, minorities, LGBTQIA+ individuals, veterans, first responders, and people relocating to San Antonio.\\nIf you want to learn about joining our program or hiring our graduates, email datascience@codeup.com!\\n\\n'},\n",
       " {'title': 'Data Science Myths',\n",
       "  'date posted': 'Posted on October 31, 2018',\n",
       "  'category': 'In Data Science',\n",
       "  'content': 'By Dimitri Antoniou and Maggie Giust\\nData Science, Big Data, Machine Learning, NLP, Neural Networks…these buzzwords have rapidly spread into mainstream use over the last few years. Unfortunately, definitions are varied and sources of truth are limited. Data Scientists are in fact not magical unicorn wizards who can snap their fingers and turn a business around! Today, we’ll take a cue from our favorite Mythbusters to tackle some common myths and misconceptions in the field of Data Science.\\n\\xa0\\nMyth #1: Data Science = Statistics\\nAt first glance, this one doesn’t sound unreasonable. Statistics is defined as, “A branch of mathematics dealing with the collection, analysis, interpretation, and presentation of masses of numerical data.” That sounds a lot like our definition of Data Science: a method of drawing actionable intelligence from data. \\nIn truth, statistics is actually one small piece of Data Science. As our Senior Data Scientist puts it, “Statistics forces us to make assumptions about the nature of the relationship between variables, the distribution of the data, etc.” In the traditional Data Science venn diagram, you’ll see that math/stats make up ⅓ of a working professional. These are tools and skills to leverage, but data science itself is about drawing intelligence from data.\\nBUSTED\\n\\nvia GIPHY\\n\\xa0\\nMyth #2: Data Scientist = Business/Data Analyst\\nThis one is so common that we wrote a whole post about it! These are separate and different roles within the data field. While a data scientist will often do analytics, their spectrum of work is wider. A data analyst will use structured data to create dashboards and KPIs, while a Data Scientist deals with unstructured and messy data for a range of outputs. If they’re interested, business analysts will often progress to data scientists.\\nBUSTED\\n\\nvia GIPHY\\n\\xa0\\nMyth #3: Data Science = Data Science\\nThis one’s tricky, because it’s impossible to either confirm or bust! The ‘myth’ is that one person or company using the term Data Science is not necessarily the same as another person or company using the same term. Depending on organizational capacity, individual experience, educational background, and many other variables, we might be using the same name for different animals.\\nTl;dr: don’t assume a common understanding across hiring managers, recruiters, and practitioners. Look instead for specifics of tools, techniques, methodologies, and outputs. That being said, this one falls in the “plausible” category, because it may actually be true in some circumstances, while false in others.\\nPLAUSIBLE\\n\\nvia GIPHY\\n\\xa0\\nMyth #4: Data Science curricula are well-defined and consistent.\\nWe recommend checking this one out for yourself! A quick google search for bootcamps, master’s degree programs, and online courses will reveal that different organizations teach different things. There is no commonly accepted framework for teaching data science! Some focus more on the engineering, others focus more on machine learning, some think deep learning is foundational, and some prefer to use R. \\nOur curriculum was built through employer interviews, practitioner interviews, market research, and company partnerships. But we’re based in Texas! A bootcamp in New York might follow the same process and end up with a different syllabus. Keep in mind, whatever your learning path, that there will be gaps in your learning. The most important thing is to recognize those gaps.\\nBUSTED\\n\\nvia GIPHY\\n\\xa0\\nMyth #5: If I want to be a data scientist, I just need to learn Python or R.\\nThis one is common and dangerous! Just like statistics, programming languages like Python and R are tools. They’re just pieces of a larger puzzle! Knowing Python without understanding the data science pipeline is like knowing how to build a floor without having a floor plan. Of course, these are valuable technical skills that give you a leg up, but they’re second in importance to asking the right questions, knowing what tools to use when, and communicating your findings.\\nBUSTED\\n\\nvia GIPHY\\nStill have questions? Reach out to us! We’re always here to help.\\n\\n'},\n",
       " {'title': 'Data Science VS Data Analytics: What’s The Difference?',\n",
       "  'date posted': 'Posted on October 17, 2018',\n",
       "  'category': 'In Data Science',\n",
       "  'content': 'By Dimitri Antoniou\\nA week ago, Codeup launched our immersive Data Science career accelerator! With our first-class kicking off in February and only 25 seats available, we’ve been answering a lot of questions from prospective students. One, in particular, has come up so many times we decided to dedicate a blog post to it. What is the difference between data science and data analytics?\\nFirst, let’s define some of our terms! Take a look at this blog to understand what Data Science is. In short, it is a method of turning raw data into action, leading to the desired outcome. Big Data refers to data sets that are large and complex, usually exceeding the capacity of computers and normal processing power to deal with. Machine Learning is the process of ‘learning’ underlying patterns of data in order to automate the extraction of intelligence from that data.\\n\\xa0\\n\\xa0\\nNow, let’s look at the data pipeline that data scientists work through to reach the actionable insights and outcomes we mentioned:\\n\\nWe start by collecting data, which may come from social media channels, network logs, financials, employee records, or more.\\nWe then process that data into usable information stored in databases or streamed.\\nNext, we look back on the history of that data to summarize, describe, and explain, turning the data into meaningful knowledge. Here we’re primarily using mathematics, statistics, and visualization methods.\\nNow we convert that knowledge into intelligence, seeking to predict future events so that we can make decisions in the present. This is where practitioners will introduce mathematical/statistical modeling through machine learning to their data.\\nFinally, we enable action by building automations, running tests, building visualizations, monitoring new data, etc.\\n\\nData professionals work at different stages of the spectrum to move data through the pipeline. On the left, Big Data Engineers specialize in collecting, storing, and processing data, getting it from Data to Information. In the middle, analysts work to understand and convert that information to knowledge. Lastly, a Machine Learning Engineer utilizes machine learning algorithms to turn intelligence into action by building automations, visualizations, recommendations, and predictions.\\nData Scientists span multiple stages of this pipeline, from information to action. They will spend about 70% of their time wrangling data in the information stage. They will conduct a statistical analysis to derive knowledge. Lastly, they predict future events and build automations using machine learning.\\nFor those technical folk out there, data science is to data engineering or machine learning engineering as full-stack development is to front-end or back-end development. For the non-technical folk, data science is the umbrella term that houses data analytics, machine learning, and other data professions.\\nSo what’s the biggest difference between a data analyst and a data scientist? Data scientists utilize computer programming and machine learning in addition to mathematics and statistics. \\nStill have questions? Reach out to us.\\xa0Wondering which of Codeup’s programs is right for you? We’ve got you covered. And of course, if data science gets you excited, get started with us today!\\n\\n'},\n",
       " {'title': '10 Tips to Crush It at the SA Tech Job Fair',\n",
       "  'date posted': 'Posted on August 14, 2018',\n",
       "  'category': 'In Tips for Prospective Students',\n",
       "  'content': 'SA Tech Job Fair\\nThe third bi-annual San Antonio Tech Job Fair is just around the corner. Over 25 companies will be at The Jack Guenther Pavilion\\xa0on April 10th, and they are hungry for new tech team members!\\nAt the job fair, companies want to quickly source a list of new talent leads. AKA they need to find qualified employees they can begin interviewing for jobs. Recruiters will represent their organization at tables with informational handouts and company swag. Your goal at a job fair is to set yourself apart from other candidates and ensure your name makes it to the top of those lead lists.\\nThink of your interaction with the company as a mini screening interview. The company rep will subtly evaluate basic qualities like your professionalism, communication and interpersonal skills, work experience, and interest level in the organization. Job fairs are also an opportunity for you to gain information about companies that may not be easily accessible online. \\xa0\\nAt Codeup, we’re passionate about bridging the gap between talent and demand, so we’ve outlined 10 tips to ensure you bring your A-game and leave a lasting impression!\\n10 Tips for Totally Crushing it at the SA Tech Job Fair\\n\\nUse keywords to describe your skills, but don’t go overboard. You’ll probably be talking to a recruiter or talent acquisition specialist. As a technical candidate, recognize these individuals usually aren’t developers or network administrators. They know terms like “JavaScript” and “Apache,” but haven’t written a line of code or spun up a server, so don’t get too caught up in industry jargon.\\nResearch the companies ahead of time. Review the list of attending companies and make sure you know what the company does and whether or not they hire people in your desired role. Look up recent news on the company and mention it during your conversation.\\nDefine your own goals for the job fair. Are you searching for a specific type of role or company culture? What matters most in your job search? Are there companies you want to prioritize? \\xa0Develop a game plan and be intentional with your time.\\nPrepare a stellar résumé. Bring about 20 copies of your résumé to the event, printed on nice paper. We won’t cover resume writing in this post, but there are a plethora of online resources you can consult. For job fairs, don’t worry about cover letters.\\nPolish your online profiles. If recruiters have a copy of your resume, you can be sure they will stalk you online soon. Make sure your online presence is professional and appropriate. A good place to start is by Googling yourself. Update your LinkedIn, and clean up any social media profiles.\\nCraft a 30-60 second elevator pitch. You may only have a few minutes with an employer. What will you say if they ask, “Tell me about yourself?” Consider structuring your pitch like this: Who you are + What you do + What your goals are + Why that matters to the company.\\nDon’t show up in a t-shirt, but trade in your suit for something more chill. Always keep it professional, but remember: tech is typically more casual than other industries. You’ll likely feel out of place if you look like you belong on Wall St., so refer to this guide on dressing for tech interviews.\\nDon’t forget the basics. Start and end each conversation with a firm handshake. Make eye contact while conversing. Smile! Thank the recruiter before you move on to the next table.\\nAsk educated questions. Don’t waste valuable face time with recruiters by asking questions like, “What does [Insert Company here] do?” They hate that question! Instead, try some of these:\\n\\nWhat are the top 3-5 examples of knowledge, skills, and abilities you look for in candidates?\\nWhat’s the best advice you have for someone who wants to work here?\\nWhat is your interview process like?\\nAre you hiring for any roles not currently listed on your websites?\\n\\n\\nFollow up. Collect business cards from each table. The next day, send a short note expressing your interest in the company’s opportunities and thanking the recruiter for his or her time.\\n\\nRSVP for the SA Tech Job Fair taking place at the Jack Guenther Pavilion – September 18th starting at 4 pm.\\xa0\\n\\n'},\n",
       " {'title': 'Competitor Bootcamps Are Closing. Is the Model in Danger?',\n",
       "  'date posted': 'Posted on August 14, 2018',\n",
       "  'category': 'In Codeup News',\n",
       "  'content': 'Competitor Bootcamps Are Closing. Is the Model in Danger?\\n\\xa0\\n\\nIs the programming bootcamp model in danger?\\nIn recent news, DevBootcamp and The Iron Yard announced that they are closing their doors. This is big news. DevBootcamp was the first programming bootcamp model and The Iron Yard is a national player with 15 campuses across the U.S. In both cases, the companies cited an unsustainable business model. Does that mean the boot-camp model is dead?\\n\\ntl;dr “Nope!”\\nBootcamps exist because traditional education models have failed to provide students job-ready skills for the 21st century. Students demand better employment options from their education. Employers demand skilled and job ready candidates. Big Education’s failure to meet those needs through traditional methods created the fertile ground for the new business model of the programming bootcamp.\\nEducation giant Kaplan and Apollo Education Group (owner of University of Phoenix) bought their way into this new educational model when they purchased The Iron Yard and DevBootcamp. They purchased their competition with the intent to scale up the model. Unfortunately, Big Education is too habituated to coming up short for students. They bought the upstarts that challenged them, tried making changes to run those bootcamps in the “Big Education” way, and, sadly, they’ve closed the doors when they realized that scaling education is more challenging when student outcomes truly matter.\\nThe bootcamp model is still new and there will be plenty consolidation, competition, and changes in the future. This model is based on actually being adaptive, innovative, and sustainable. And there’s always room for innovation.\\n\\n\\nWhat we’ve learned at Codeup…\\n\\n\\nEducation is challenging to scale.\\nPrioritizing quality over growth pays off.\\n\\nWhat we’re doing at Codeup…\\n\\nHigher standards in our application process are leading to better student outcomes.\\nOur reputation and commitment to quality is opening new doors to previously uninterested/unreachable employers.\\nIn the beginning, the majority of Codeup graduates went to work with startups and small businesses. We’re now seeing a larger amount of our graduates place at medium to large sized businesses.\\nDemand is growing and employers are learning that the results are in the graduates.\\nCodeup’s model is sustainable, inclusive, and works.\\n\\nCall or contact us today to see how Codeup’s commitment to quality and approach to being a career accelerator can make a profound difference in your life.\\n\\n'}]"
      ]
     },
     "execution_count": 19,
     "metadata": {},
     "output_type": "execute_result"
    }
   ],
   "source": [
    "loop_blog_articles(sites)"
   ]
  },
  {
   "cell_type": "code",
   "execution_count": 20,
   "metadata": {},
   "outputs": [],
   "source": [
    "all_blog_posts = loop_blog_articles(sites)\n",
    "df = pd.DataFrame(all_blog_posts)"
   ]
  },
  {
   "cell_type": "code",
   "execution_count": 21,
   "metadata": {},
   "outputs": [
    {
     "data": {
      "text/html": [
       "<div>\n",
       "<style scoped>\n",
       "    .dataframe tbody tr th:only-of-type {\n",
       "        vertical-align: middle;\n",
       "    }\n",
       "\n",
       "    .dataframe tbody tr th {\n",
       "        vertical-align: top;\n",
       "    }\n",
       "\n",
       "    .dataframe thead th {\n",
       "        text-align: right;\n",
       "    }\n",
       "</style>\n",
       "<table border=\"1\" class=\"dataframe\">\n",
       "  <thead>\n",
       "    <tr style=\"text-align: right;\">\n",
       "      <th></th>\n",
       "      <th>title</th>\n",
       "      <th>date posted</th>\n",
       "      <th>category</th>\n",
       "      <th>content</th>\n",
       "    </tr>\n",
       "  </thead>\n",
       "  <tbody>\n",
       "    <tr>\n",
       "      <th>0</th>\n",
       "      <td>Codeup’s Data Science Career Accelerator is Here!</td>\n",
       "      <td>Posted on September 30, 2018</td>\n",
       "      <td>In Data Science</td>\n",
       "      <td>The rumors are true! The time has arrived. Cod...</td>\n",
       "    </tr>\n",
       "    <tr>\n",
       "      <th>1</th>\n",
       "      <td>Data Science Myths</td>\n",
       "      <td>Posted on October 31, 2018</td>\n",
       "      <td>In Data Science</td>\n",
       "      <td>By Dimitri Antoniou and Maggie Giust\\nData Sci...</td>\n",
       "    </tr>\n",
       "  </tbody>\n",
       "</table>\n",
       "</div>"
      ],
      "text/plain": [
       "                                               title  \\\n",
       "0  Codeup’s Data Science Career Accelerator is Here!   \n",
       "1                                 Data Science Myths   \n",
       "\n",
       "                    date posted         category  \\\n",
       "0  Posted on September 30, 2018  In Data Science   \n",
       "1    Posted on October 31, 2018  In Data Science   \n",
       "\n",
       "                                             content  \n",
       "0  The rumors are true! The time has arrived. Cod...  \n",
       "1  By Dimitri Antoniou and Maggie Giust\\nData Sci...  "
      ]
     },
     "execution_count": 21,
     "metadata": {},
     "output_type": "execute_result"
    }
   ],
   "source": [
    "df.head(2)"
   ]
  },
  {
   "cell_type": "code",
   "execution_count": 22,
   "metadata": {},
   "outputs": [],
   "source": [
    "def convert_to_df():\n",
    "    \"\"\"\n",
    "    This function takes list of dictionaries created by `loop_blog_articles`\n",
    "    returns converted list to df.\n",
    "    \"\"\"\n",
    "    all_blog_posts = loop_blog_articles(sites)\n",
    "    df = pd.DataFrame(all_blog_posts)\n",
    "    return df\n",
    "    "
   ]
  },
  {
   "cell_type": "code",
   "execution_count": 23,
   "metadata": {},
   "outputs": [],
   "source": [
    "df = convert_to_df()"
   ]
  },
  {
   "cell_type": "code",
   "execution_count": 24,
   "metadata": {},
   "outputs": [
    {
     "data": {
      "text/html": [
       "<div>\n",
       "<style scoped>\n",
       "    .dataframe tbody tr th:only-of-type {\n",
       "        vertical-align: middle;\n",
       "    }\n",
       "\n",
       "    .dataframe tbody tr th {\n",
       "        vertical-align: top;\n",
       "    }\n",
       "\n",
       "    .dataframe thead th {\n",
       "        text-align: right;\n",
       "    }\n",
       "</style>\n",
       "<table border=\"1\" class=\"dataframe\">\n",
       "  <thead>\n",
       "    <tr style=\"text-align: right;\">\n",
       "      <th></th>\n",
       "      <th>title</th>\n",
       "      <th>date posted</th>\n",
       "      <th>category</th>\n",
       "      <th>content</th>\n",
       "    </tr>\n",
       "  </thead>\n",
       "  <tbody>\n",
       "    <tr>\n",
       "      <th>0</th>\n",
       "      <td>Codeup’s Data Science Career Accelerator is Here!</td>\n",
       "      <td>Posted on September 30, 2018</td>\n",
       "      <td>In Data Science</td>\n",
       "      <td>The rumors are true! The time has arrived. Cod...</td>\n",
       "    </tr>\n",
       "    <tr>\n",
       "      <th>1</th>\n",
       "      <td>Data Science Myths</td>\n",
       "      <td>Posted on October 31, 2018</td>\n",
       "      <td>In Data Science</td>\n",
       "      <td>By Dimitri Antoniou and Maggie Giust\\nData Sci...</td>\n",
       "    </tr>\n",
       "    <tr>\n",
       "      <th>2</th>\n",
       "      <td>Data Science VS Data Analytics: What’s The Dif...</td>\n",
       "      <td>Posted on October 17, 2018</td>\n",
       "      <td>In Data Science</td>\n",
       "      <td>By Dimitri Antoniou\\nA week ago, Codeup launch...</td>\n",
       "    </tr>\n",
       "    <tr>\n",
       "      <th>3</th>\n",
       "      <td>10 Tips to Crush It at the SA Tech Job Fair</td>\n",
       "      <td>Posted on August 14, 2018</td>\n",
       "      <td>In Tips for Prospective Students</td>\n",
       "      <td>SA Tech Job Fair\\nThe third bi-annual San Anto...</td>\n",
       "    </tr>\n",
       "    <tr>\n",
       "      <th>4</th>\n",
       "      <td>Competitor Bootcamps Are Closing. Is the Model...</td>\n",
       "      <td>Posted on August 14, 2018</td>\n",
       "      <td>In Codeup News</td>\n",
       "      <td>Competitor Bootcamps Are Closing. Is the Model...</td>\n",
       "    </tr>\n",
       "  </tbody>\n",
       "</table>\n",
       "</div>"
      ],
      "text/plain": [
       "                                               title  \\\n",
       "0  Codeup’s Data Science Career Accelerator is Here!   \n",
       "1                                 Data Science Myths   \n",
       "2  Data Science VS Data Analytics: What’s The Dif...   \n",
       "3        10 Tips to Crush It at the SA Tech Job Fair   \n",
       "4  Competitor Bootcamps Are Closing. Is the Model...   \n",
       "\n",
       "                    date posted                          category  \\\n",
       "0  Posted on September 30, 2018                   In Data Science   \n",
       "1    Posted on October 31, 2018                   In Data Science   \n",
       "2    Posted on October 17, 2018                   In Data Science   \n",
       "3     Posted on August 14, 2018  In Tips for Prospective Students   \n",
       "4     Posted on August 14, 2018                    In Codeup News   \n",
       "\n",
       "                                             content  \n",
       "0  The rumors are true! The time has arrived. Cod...  \n",
       "1  By Dimitri Antoniou and Maggie Giust\\nData Sci...  \n",
       "2  By Dimitri Antoniou\\nA week ago, Codeup launch...  \n",
       "3  SA Tech Job Fair\\nThe third bi-annual San Anto...  \n",
       "4  Competitor Bootcamps Are Closing. Is the Model...  "
      ]
     },
     "execution_count": 24,
     "metadata": {},
     "output_type": "execute_result"
    }
   ],
   "source": [
    "df.head()"
   ]
  },
  {
   "cell_type": "markdown",
   "metadata": {},
   "source": [
    "___\n",
    "## Bonus:\n",
    "\n",
    "Scrape the text of all the articles linked on codeup's [blog page](https://codeup.com/blog/).\n",
    "___"
   ]
  },
  {
   "cell_type": "markdown",
   "metadata": {},
   "source": [
    "## 2. News Articles\n",
    "\n",
    "We will now be scraping text data from [inshorts](https://inshorts.com/), a website that provides a brief overview of many different topics.\n",
    "\n",
    "Write a function that scrapes the news articles for the following topics:\n",
    "\n",
    "- Business\n",
    "- Sports\n",
    "- Technology\n",
    "- Entertainment\n",
    "The end product of this should be a function named `get_news_articles` that returns a list of dictionaries, where each dictionary has this shape:"
   ]
  },
  {
   "cell_type": "code",
   "execution_count": null,
   "metadata": {},
   "outputs": [],
   "source": []
  },
  {
   "cell_type": "code",
   "execution_count": null,
   "metadata": {},
   "outputs": [],
   "source": []
  },
  {
   "cell_type": "code",
   "execution_count": null,
   "metadata": {},
   "outputs": [],
   "source": []
  },
  {
   "cell_type": "code",
   "execution_count": null,
   "metadata": {},
   "outputs": [],
   "source": []
  },
  {
   "cell_type": "code",
   "execution_count": null,
   "metadata": {},
   "outputs": [],
   "source": []
  },
  {
   "cell_type": "code",
   "execution_count": null,
   "metadata": {},
   "outputs": [],
   "source": []
  },
  {
   "cell_type": "code",
   "execution_count": null,
   "metadata": {},
   "outputs": [],
   "source": []
  },
  {
   "cell_type": "code",
   "execution_count": null,
   "metadata": {},
   "outputs": [],
   "source": []
  }
 ],
 "metadata": {
  "kernelspec": {
   "display_name": "Python 3",
   "language": "python",
   "name": "python3"
  },
  "language_info": {
   "codemirror_mode": {
    "name": "ipython",
    "version": 3
   },
   "file_extension": ".py",
   "mimetype": "text/x-python",
   "name": "python",
   "nbconvert_exporter": "python",
   "pygments_lexer": "ipython3",
   "version": "3.8.5"
  }
 },
 "nbformat": 4,
 "nbformat_minor": 4
}
