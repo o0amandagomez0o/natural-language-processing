{
 "cells": [
  {
   "cell_type": "code",
   "execution_count": 1,
   "metadata": {},
   "outputs": [],
   "source": [
    "from pprint import pprint\n",
    "\n",
    "import pandas as pd\n",
    "import numpy as np\n",
    "\n",
    "%matplotlib inline\n",
    "import matplotlib.pyplot as plt\n",
    "\n",
    "from prepare import basic_clean, lemmatize\n",
    "\n",
    "import re\n",
    "import unicodedata\n",
    "import pandas as pd\n",
    "import nltk\n",
    "\n",
    "import matplotlib.pyplot as plt\n",
    "from sklearn.model_selection import train_test_split\n",
    "from sklearn.linear_model import LogisticRegression\n",
    "from sklearn.metrics import classification_report, accuracy_score\n",
    "\n",
    "from sklearn.metrics import classification_report\n",
    "\n",
    "import acquire as a \n",
    "import prepare as p"
   ]
  },
  {
   "cell_type": "code",
   "execution_count": 2,
   "metadata": {},
   "outputs": [],
   "source": [
    "categories = [\"business\", \"sports\", \"technology\", \"entertainment\"]\n",
    "news_df = a.get_all_news_articles(categories)"
   ]
  },
  {
   "cell_type": "code",
   "execution_count": 3,
   "metadata": {},
   "outputs": [
    {
     "data": {
      "text/html": [
       "<div>\n",
       "<style scoped>\n",
       "    .dataframe tbody tr th:only-of-type {\n",
       "        vertical-align: middle;\n",
       "    }\n",
       "\n",
       "    .dataframe tbody tr th {\n",
       "        vertical-align: top;\n",
       "    }\n",
       "\n",
       "    .dataframe thead th {\n",
       "        text-align: right;\n",
       "    }\n",
       "</style>\n",
       "<table border=\"1\" class=\"dataframe\">\n",
       "  <thead>\n",
       "    <tr style=\"text-align: right;\">\n",
       "      <th></th>\n",
       "      <th>original</th>\n",
       "      <th>category</th>\n",
       "      <th>clean</th>\n",
       "      <th>stemmed</th>\n",
       "      <th>lemmatized</th>\n",
       "    </tr>\n",
       "  </thead>\n",
       "  <tbody>\n",
       "    <tr>\n",
       "      <th>0</th>\n",
       "      <td>Several companies in India have been offering ...</td>\n",
       "      <td>business</td>\n",
       "      <td>several companies in india have been offering ...</td>\n",
       "      <td>sever compani in india have been offer extra h...</td>\n",
       "      <td>several company in india have been offering ex...</td>\n",
       "    </tr>\n",
       "    <tr>\n",
       "      <th>1</th>\n",
       "      <td>Bill Gates' Cascade Investment, a holding comp...</td>\n",
       "      <td>business</td>\n",
       "      <td>bill gates ' cascade investment a holding comp...</td>\n",
       "      <td>bill gate ' cascad invest a hold compani gate ...</td>\n",
       "      <td>bill gate ' cascade investment a holding compa...</td>\n",
       "    </tr>\n",
       "  </tbody>\n",
       "</table>\n",
       "</div>"
      ],
      "text/plain": [
       "                                            original  category  \\\n",
       "0  Several companies in India have been offering ...  business   \n",
       "1  Bill Gates' Cascade Investment, a holding comp...  business   \n",
       "\n",
       "                                               clean  \\\n",
       "0  several companies in india have been offering ...   \n",
       "1  bill gates ' cascade investment a holding comp...   \n",
       "\n",
       "                                             stemmed  \\\n",
       "0  sever compani in india have been offer extra h...   \n",
       "1  bill gate ' cascad invest a hold compani gate ...   \n",
       "\n",
       "                                          lemmatized  \n",
       "0  several company in india have been offering ex...  \n",
       "1  bill gate ' cascade investment a holding compa...  "
      ]
     },
     "execution_count": 3,
     "metadata": {},
     "output_type": "execute_result"
    }
   ],
   "source": [
    "news_df = p.full_df(news_df, \"title\")\n",
    "news_df.head(2)"
   ]
  },
  {
   "cell_type": "code",
   "execution_count": 4,
   "metadata": {},
   "outputs": [
    {
     "data": {
      "text/html": [
       "<div>\n",
       "<style scoped>\n",
       "    .dataframe tbody tr th:only-of-type {\n",
       "        vertical-align: middle;\n",
       "    }\n",
       "\n",
       "    .dataframe tbody tr th {\n",
       "        vertical-align: top;\n",
       "    }\n",
       "\n",
       "    .dataframe thead th {\n",
       "        text-align: right;\n",
       "    }\n",
       "</style>\n",
       "<table border=\"1\" class=\"dataframe\">\n",
       "  <thead>\n",
       "    <tr style=\"text-align: right;\">\n",
       "      <th></th>\n",
       "      <th>raw_count</th>\n",
       "      <th>frequency</th>\n",
       "      <th>augmented_frequency</th>\n",
       "    </tr>\n",
       "  </thead>\n",
       "  <tbody>\n",
       "    <tr>\n",
       "      <th>the</th>\n",
       "      <td>273</td>\n",
       "      <td>0.044390</td>\n",
       "      <td>1.000000</td>\n",
       "    </tr>\n",
       "    <tr>\n",
       "      <th>'</th>\n",
       "      <td>203</td>\n",
       "      <td>0.033008</td>\n",
       "      <td>0.743590</td>\n",
       "    </tr>\n",
       "    <tr>\n",
       "      <th>to</th>\n",
       "      <td>172</td>\n",
       "      <td>0.027967</td>\n",
       "      <td>0.630037</td>\n",
       "    </tr>\n",
       "    <tr>\n",
       "      <th>a</th>\n",
       "      <td>141</td>\n",
       "      <td>0.022927</td>\n",
       "      <td>0.516484</td>\n",
       "    </tr>\n",
       "    <tr>\n",
       "      <th>of</th>\n",
       "      <td>133</td>\n",
       "      <td>0.021626</td>\n",
       "      <td>0.487179</td>\n",
       "    </tr>\n",
       "    <tr>\n",
       "      <th>...</th>\n",
       "      <td>...</td>\n",
       "      <td>...</td>\n",
       "      <td>...</td>\n",
       "    </tr>\n",
       "    <tr>\n",
       "      <th>history</th>\n",
       "      <td>1</td>\n",
       "      <td>0.000163</td>\n",
       "      <td>0.003663</td>\n",
       "    </tr>\n",
       "    <tr>\n",
       "      <th>hire</th>\n",
       "      <td>1</td>\n",
       "      <td>0.000163</td>\n",
       "      <td>0.003663</td>\n",
       "    </tr>\n",
       "    <tr>\n",
       "      <th>responding</th>\n",
       "      <td>1</td>\n",
       "      <td>0.000163</td>\n",
       "      <td>0.003663</td>\n",
       "    </tr>\n",
       "    <tr>\n",
       "      <th>demi</th>\n",
       "      <td>1</td>\n",
       "      <td>0.000163</td>\n",
       "      <td>0.003663</td>\n",
       "    </tr>\n",
       "    <tr>\n",
       "      <th>realised</th>\n",
       "      <td>1</td>\n",
       "      <td>0.000163</td>\n",
       "      <td>0.003663</td>\n",
       "    </tr>\n",
       "  </tbody>\n",
       "</table>\n",
       "<p>1876 rows × 3 columns</p>\n",
       "</div>"
      ],
      "text/plain": [
       "            raw_count  frequency  augmented_frequency\n",
       "the               273   0.044390             1.000000\n",
       "'                 203   0.033008             0.743590\n",
       "to                172   0.027967             0.630037\n",
       "a                 141   0.022927             0.516484\n",
       "of                133   0.021626             0.487179\n",
       "...               ...        ...                  ...\n",
       "history             1   0.000163             0.003663\n",
       "hire                1   0.000163             0.003663\n",
       "responding          1   0.000163             0.003663\n",
       "demi                1   0.000163             0.003663\n",
       "realised            1   0.000163             0.003663\n",
       "\n",
       "[1876 rows x 3 columns]"
      ]
     },
     "execution_count": 4,
     "metadata": {},
     "output_type": "execute_result"
    }
   ],
   "source": [
    "# transform into a series\n",
    "\n",
    "string = \" \".join(news_df.lemmatized)\n",
    "\n",
    "\n",
    "words = pd.Series(string.split())\n",
    "\n",
    "# From the Series we can extract the value_counts, which is our raw count\n",
    "# for term frequency. Once we have the raw counts, we can calculate the\n",
    "# other measures.\n",
    "(pd.DataFrame({'raw_count': words.value_counts()})\n",
    " .assign(frequency=lambda df: df.raw_count / df.raw_count.sum())\n",
    " .assign(augmented_frequency=lambda df: df.frequency / df.frequency.max()))"
   ]
  },
  {
   "cell_type": "code",
   "execution_count": 5,
   "metadata": {},
   "outputs": [
    {
     "data": {
      "text/plain": [
       "\"several company in india have been offering extra holiday to employee to destress amid the covid19 pandemic godrej property sent it employee on leave from may 510 saying that it ' s taking a pause to heal pwc and deloitte india created a holiday pool that employee can use to avail leaf meanwhile food delivery platform swiggy transitioned to a fourday workweek bill gate ' cascade investment a holding company gate created with the proceeds of microsoft ' s stock sale and dividend transferred security worth over 18 billion almost 13300 crore to melinda french gate the transfer come after the duo filed for divorce after 27 year of marriage gate ha interest in real estate energy and hospitality and other company through cascade infosys ha committed additional 100 crore for covid19 relief effort in india some of the amount will be used to add hospital bed and augment the supply of oxygen concentrators ventilator and to provide ration to migrant labourer and family impacted by the lockdown infosys had committed 100 crore last year including contribution towards the pmcares fund share of covid19 vaccine maker plunged after the u backed a proposal to waive intellectual property right for covid19 vaccine pfizer moderna novavax and biontech were down between 4 and 10 in u trading on thursday you cannot go hire people who know how to make the mrna those people don ' t exist moderna ceo stephane bancel said american biotechnology company moderna ha raised it 2021 sale forecast for it covid19 vaccine by 43 to 192 billion moderna ' s ceo stephane bancel said the company could sign more deal with country for vaccine ' s supply in 2022 than in 2021 earlier this week pfizer also raised fullyear sale forecast for the covid19 vaccine it developed with biontech to 26 billion biocon founder kiran mazumdarshaw said that the second covid19 wave ha hit india like a tsunami the unfortunate part is it hasn ' t spared any part of our countryboth urban india and more frighteninglyrural indiahas also got infected she added during a virtual panel discussion if india isn ' t safe i can tell you the world isn ' t safe she further said the indian drug manufacturer ' association idma ha warned that a halt on some cargo flight from china may have cascading effect on drug industry ' s entire supply chain it could lead to domestic shortage of essential medicine and impact export idma said in a letter to the government china supply 6070 of the raw material used by india ' s drugmakers it added reliance industry ha sought permission to fly an israeli delegation to india to train team and install a covid19 breath testing system that can give result within second the delegation from breath of health boh will be flying out soon pti reported citing source ril had earlier signed a 15million deal with boh to distribute the testing kit in india former finance secretary sc garg on thursday said that the government should regulate and control cryptocurrencies instead of prohibiting them he added that cryptocurrency asset should be allowed and cryptocurrency service should be encouraged garg also said that all the indian company should only be keeping digital account in the next three to five year ' shark tank ' investor kevin o ' leary said that he ha allocated 3 of his portfolio to bitcoin o ' leary further said that he made the allocation after canada and other country eased restriction on institutional purchase of the cryptocurrency he added that he ' s working on organising a council of sustainability to include corporation and government that are mining coin responsibly the npci ha refused to block fund movement for cryptocurrency trade in india et reported it ha reportedly asked bank to take a decision based on their legal and compliance department ' advice if the npci took a central decision to disable upi and rupay card for investing in cryptocurrencies it wouldleave investor with fewer payment option an industry official said bank of england governor andrew bailey ha said that people should only buy cryptocurrencies if they are ready to lose all their money i ' m afraid crypto and currency are two word that don ' t go together for me he added bailey also said that the central bank is well positioned to respond to any threat that might arise honda car india on thursday said it is advancing maintenance shutdown at it tapukarabased facility in rajasthan to curb the spread of covid19 infection it added that the production will be halted from may 7 to may 18 the maintenance of the plant which ha an installed production capacity of 18 lakh unit per annum wa originally scheduled from midmay coinbase the biggest cryptocurrency exchange of u said it ' ll close it san francisco headquarters next year in a move to remain a remote first company we ' ve committed to having no hq and it ' s important to show our decentralised workforce that no one location is important than the another coinbase said the company will allow it employee to continue working remotely u lawmaker pramila jayapal responded to tesla ceo and world ' s second richest person elon musk ' s tweet asking for sketch idea ahead of his appearance on ' saturday night live ' pay your fair share of tax jayapal wrote nonprofit organisation public citizen also responded saying how about you do a skit where you donate 126000000000 you added to your wealth during pandemic autoambulances have been started in the national capital with an objective to ensure that patient with mild symptom and having oxygen level between 85 to 90 can reach nearby hospital in time an official statement said the autoambulance service can be booked through the number ' 01141236614 ' the national capital ha witnessed a total of 18063 death due to covid19 the finance ministry ha released the second monthly instalment of revenue deficit grant of 9871 crore to 17 state for 202122 with the release a total of 19742 crore ha been released in the first two month of fy22 the ministry said the 15th finance commission ha recommended a revenue deficit grant of 118452 crore to 17 state for fy22 adani enterprise reported a 2822 rise in consolidated net profit at 23395 crore for the march quarter of 202021 the company ' s profit stood at 6121 crore in the yearago period the company said that it board ha recommended a final dividend of 1 per equity share of the face value of 1 each for pandemichit 202021 the income tax department said it issued refund worth over 15438 crore to more than 1173 lakh taxpayer between april 1 and may 3 but did not specify which fiscal year the record pertained to personal tax refund of 5047 crore were issued in over 1151 lakh case and corporate tax refund of 10392 crore were issued to 21487 taxpayer fitch solution said that the resurgence of covid19 case ha exposed crack in india ' s healthcare system however it added that the actual impact on the indian economy is likely to be le severe in comparison to june quarter of last fiscal due to the localised nature of restriction the company ha forecast india ' s real gdp to grow 95 in 202122 stateowned life insurance corporation of india ha informed policy holder and stakeholder that it employee will work for five day in a week from may 10 it added that the centre in april declared that saturday will be a public holiday for the insurer earlier report claimed that the centre also finalised a wage hike for it staff online sale of adidas and nike plunged in china after their remark over alleged human right abuse in the production of cotton in xinjiang adidas ' sale slumped 78 in april from a year ago while nike ' s sale dropped 59 on tmall analysis by morningstar showed meanwhile china lining sale on tmall jumped over 800 in april morningstar said share of idbi bank surged by over 7 to reach 4070 on bse a of 230 pm on thursday this come after the cabinet committee on economic affair on wednesday gave approval for strategic disinvestment along with transfer of management control in the bank the central government and lic together own more than 94 of equity of idbi bank world ' s largest steelmaker arcelormittal ha recorded it strongest performance in a decade in the first quarter aditya mittal who took over a ceo earlier this year said the company recorded a net profit of 229 billion during the quarter due to high steel price a against a 112billion loss a year earlier it sale rose to 1619 billion the madras high court directed bharat sanchar nigam limited bsnl to pay it 4500 contract worker by the 15th of every month it added that bsnl must claim the 30day wage bill on or before the fifth of the next month and that a yearly 6 interest rate would be levied in case of delayed payment actor sonu sood came to csk batsman suresh raina ' s aid after the latter requested for oxygen cylinder for his covid19 positive aunt in up ' s meerut send me the detailswill get it delivered sonu replied followed by another tweet which read oxygen cylinder reaching in 10 minute raina later tweeted it ' s been arranged can ' t thank everyone enough for lending your support actress deepika padukone ' s father and former badminton player prakash padukone ha been hospitalised in bengaluru after testing positive for coronavirus his friend vimal kumar told pti that prakash is doing better and is expected to be discharged from the hospital in twothree day he also said that prakash ' s wife ujjala and second daughter anisha also tested positive india woman cricketer veda krishnamurthy ' s sister vatsala shivakumar passed away aged 45 due to covid19 at a private hospital in chikkamagaluru on wednesday night their mother cheluvamba had succumbed to the infection at the age of 63 on april 22 a many a four member of their family tested positive for the infection bcci president sourav ganguly ha said that if ipl 2021 is not completed then the organiser will incur a loss of around 2500 crore we have to speak to other board and see if a window can be made available before the t20 world cup lot of thing are involved and we will slowly start working on them he added former australia legspinner stuart macgill wa kidnapped threatened at gunpoint and released in sydney last month police said four people including macgill ' s girlfriend ' s brother have been arrested in connection with the incident which took place on 14 april macgill sustained minor injury in the incident but didn ' t require medical care police added csk captain m dhoni ha informed his teammate that he will be the last person to leave the hotel and board the flight back home a csk member revealed dhoni said he ' ll wait for the foreigner to leave first and the other indian player next before he go home from delhi dhoni is scheduled to fly on thursday to ranchi delhi police have launched raid to locate twotime olympic medallist wrestler sushil kumar for questioning over his alleged role in the murder of 23yearold former junior national champion sagar kumar sagar wa beaten to death in a clash involving two group at the chhatrasal stadium premise in delhi on tuesday sushil ha denied the role of his wrestler australian cricketerturnedcommentator michael slater criticised australia pm scott morrison for enforcing a travel ban from india and not letting citizen enter the country amazing to smoke out the pm on a matter that is a human crisisfear of every australian in india is realhow about you take your private jet and come and witness dead body onstreets he said reacting to a video wherein commentator harsha bhogle referred to him a ' sir jadeja ' while praising him csk allrounder ravindra jadeja tweeted thanks a lot but i will be more happy if you call me ravindra jadeja responding to him bhogle wrote done aise hi khelte raho cheer a fan commented i prefer sir jadeja because you ' ve earned that respect bcci president sourav ganguly ha said that it is very difficult to say how covid19 entered the ipl bubble the report we got is that there ' s no breach of the bubble how it happened is very difficult to say how so many people are getting infected in the country is also very difficult to say he added csk batting coach michael hussey and bowling coach l balaji who were diagnosed with covid19 have been flown into the city from delhi in an air ambulance a franchise official said we have better contact here and we wanted to ensure better medical facility in case of any need the official said the duo are asymptomatic he added a video purportedly showing an ambulance being stopped to allow ipl convoy to pas in gujarat ' s ahmedabad ha surfaced online the 17secondlong video show three bus of kkr being escorted by multiple police vehicle at the junction even a a jeep ambulance wait the case could be of momentary confusion mayanksinh joint commissioner of police traffic ahmedabad said bangladesh cricket board shared a post on twitter on the 37th birth anniversary of manjural islam rana who died in a road accident in 2007 sharing a picture the board wrote happy birthday to manjural islam rana youngest test cricketer to die at the age 22 year and 316 day ravichandran ashwin reacted to it with a flushed face emoji a 24yearold wrestler wa allegedly beaten to death and his two friend were physically assaulted outside chhatrasal stadium in delhi on tuesday night after report claimed that police are probing olympic medalist sushil kumar ' s role in the attack kumar said they weren ' t our wrestlerswe ' ve informed police official that some unknown people jumped into our premise and fought after his daughter ' s death former uk footballer ashley cain said i ' m finding a lot of peace in the sky at the moment from beaming orange sky at night to cloud that form my daughter ' s face in the day he shared a picture on instagram and wrote someone sent me this screenshot today from my storyand i couldn ' t believe it australia pacer jason behrendorff who wa yet to feature for csk in ipl 2021 ha announced a contribution to unicef australia ' s india covid19 crisis appeal earlier pat cummins had revealed that he allocated his 50000 donation to the unicef ' s initiative meanwhile the ipl ha been suspended after coronavirus case were reported from within it bubble reacting to ipl ' s immediate suspension commentator harsha bhogle tweeted that it became inevitable in the last couple of day player across several franchise have tested positive for coronavirus inside the tournament ' s biosecure bubble the ipl is a great event and i hope it return stronger when the world is what we knew it to be bhogle tweeted the world ' s oldest person a 118yearold japanese woman ha pulled out of the torch relay for tokyo 2020 olympics over covid19 fear an official said on wednesday kane tanaka wa due to take part in the event in japan ' s fukuoka on may 11 the olympic torch relay which started in march ha been hit by a coronavirus outbreak cricketerturned commentator scott styris ha said that he could never understand csk and india allrounder ravindra jadeja ' s criticism in the past jadeja can do absolutely everything at the top highest level styris stated in 2019 commentator sanjay manjrekar had said that he is not a fan of bit and piece player like jadeja after the suspension of ipl 2021 cricket australia said it ' s in direct contact with the bcci to ensure safe accommodation and repatriation of their player however cricket australia also clarified that they respect the australian government ' s ban on travel from india until may 15 and will not seek exemption for the player the icc is in talk with the emirate cricket board regarding hosting of the t20 world cup which is set to be played in india in octobernovember in uae a report ha claimed an announcement to this effect is likely to be made in the next two week a source wa quoted a saying meanwhile ipl 2021 ha been suspended ipl chairman brijesh patel ha said that the bcci will find a way to arrange for the return of overseas player after the tournament wa suspended bcci in it official statement had also stated that all player would return home with their family srh wicketkeeperbatsman wriddhiman saha and dc legspinner amit mishra tested positive for coronavirus on tuesday u baseball team oakland athletics president dave kaval announced that the team ha processed the first dogecoin transaction in the history of major league baseball the athletics are offering two ticket in the plaza infield for game may 3 through may 6 for 100 dogecoin earlier a tiktoker used dogecoin to buy dallas maverick game ticket with mark cuban ' s help former england captain michael vaughan ha termed the suspension of the ipl 2021 a a sensible decision after four player tested positive inside it biosecure bubble hope everyone stay safe in india and all the overseas player can find a way back to there family he tweeted several country including australia have banned direct flight from india jose mourinho ha been appointed a italian club rom ' s head coach starting next season on a threeyear deal this come hour after the club announced that current coach paulo fonseca will depart at the end of this season mourinho wa sacked by tottenham in april after 17 month in charge of the premier league side south korean video game developer krafton ha announced that the india version of it game pubg will be called ' battleground mobile india ' while the company did not say when the game would be launched it ha revealed the logo this come after the original version of the game wa banned in india in september following a ban on chinese apps bill gate ' cascade investment a holding company gate created with the proceeds of microsoft ' s stock sale and dividend transferred security worth over 18 billion almost 13300 crore to melinda french gate the transfer come after the duo filed for divorce after 27 year of marriage gate ha interest in real estate energy and hospitality and other company through cascade facebook ' s oversight board upheld facebook ' s suspension of former u president donald trump ' s facebook and instagram account however it criticised the openended nature of the suspension calling it an indeterminate and standardless penalty and insisted facebook review it response facebook said it will consider board ' s decision and in the meantime trump ' s account will remain suspended spacex on wednesday pulled off a safe landing of it newest and biggest rocket after four previous attempt ended up in explosion the test flight of the starship sn15 prototype wa conducted at about 524 pm local time from spacex ' s seaside launch pad in boca chica texas starship landing nominal tweeted spacex founder elon musk amazon founder and outgoing ceo jeff bezos ha sold about 25 billion of amazon share this week in his first sale of 2021 he will take home an estimated 19 billion after tax deduction according to forbes bezos who is the world ' s richest person continues to hold over 10 stake in amazon the primary source of his 191 billion fortune a ukbased man who contacted google support after being locked out of his personal gmail account ended up solving the issue by himself and helping the support person who faced the same issue mike rose shared his chat with the google support executive so if any of you need any google helpi ' m now support to google support mike jokingly tweeted google ceo sundar pichai informed employee that the company is moving to a hybrid workweek where most of the staff will spend three day in the office and two day wherever they work best about 20 of it workforce would work from home permanently while 20 would shift to new office the remaining 60 will work from their current location american rapper meek mill purchased cryptocurrency dogecoin worth 50000 a it price surged over 40 on tuesday mill shared a picture of the transaction on instagram which showed that he bought more than 92000 dogecoin at the price of 054 dogecoin the memeinspired cryptocurrency which started a a joke in 2013 ha rallied 14000 this year former finance secretary sc garg on thursday said that the government should regulate and control cryptocurrencies instead of prohibiting them he added that cryptocurrency asset should be allowed and cryptocurrency service should be encouraged garg also said that all the indian company should only be keeping digital account in the next three to five year ibm ha unveiled what it claim to be world ' s first 2nanometre chipmaking technology the technology could be 45 faster than 7nanometre chip used in many of today ' s laptop and phone and up to 75 more power efficient according to the company a many a 50 billion transistor can be fit into a chip the size of a fingernail ibm added sam bankmanfried one of the youngest cryptocurrency billionaire said if dogecoin is stupid and valueless it shouldn ' t be worth 90 billion our collective imagination ha given gold bitcoin and euro value and now we just think about them having value bankmanfried told bloomberg he also said that dogecoin might become so accepted that it evolves into a payment option billionaire mike novogratz ' s galaxy digital ha agreed to acquire cryptocurrency custodian bitgo for 12 billion the deal mark cryptocurrency sector ' s first 1 billion deal according to the wall street journal with this acquisition we become the secondlargest custodian behind coinbase with 42 billion asset under custody novogratz said bitgo shareholder will own 10 of the new company ' shark tank ' investor kevin o ' leary said that he ha allocated 3 of his portfolio to bitcoin o ' leary further said that he made the allocation after canada and other country eased restriction on institutional purchase of the cryptocurrency he added that he ' s working on organising a council of sustainability to include corporation and government that are mining coin responsibly reddit forum wallstreetbets member have been targeted in a cryptocurrency scam that is estimated to have caused loss worth at least 2 million a telegram account named wallstreetbetscrypto pump offered member a chance to buy wsb finance token before it listed on cryptocurrency exchange member were then asked to send binance or ether token to receive wsb finance coin former u president donald trump issued a statement following facebook oversight board ' s decision to uphold the ban imposed on his account what facebook twitter and google have done is a total disgrace and an embarrassment trump said he added these corrupt social medium company must pay a political price and must neverbe allowed to destroy and decimate our electoral process dogecoin ha soared around 14000 so far this year and ha surpassed xrp to become the fourthlargest cryptocurrency by market capitalisation according to coinmarketcap the cryptocurrency whose logo is inspired by the shiba inu doge meme currently ha a market value of around 80 billion bitcoin ethereum and binance coin are the top three cryptocurrencies in term of market value world ' s richest person jeff bezos ' space venture blue origin is aiming to launch it first crew of human to space on july 20 aboard it suborbital space tourism rocket new shepard one seat on the flight will be offered to the winning bidder of an online auction blue origin said the company didn ' t release any pricing information about the flight the npci ha refused to block fund movement for cryptocurrency trade in india et reported it ha reportedly asked bank to take a decision based on their legal and compliance department ' advice if the npci took a central decision to disable upi and rupay card for investing in cryptocurrencies it wouldleave investor with fewer payment option an industry official said bank of england governor andrew bailey ha said that people should only buy cryptocurrencies if they are ready to lose all their money i ' m afraid crypto and currency are two word that don ' t go together for me he added bailey also said that the central bank is well positioned to respond to any threat that might arise ether the world ' s secondlargest cryptocurrency in term of market capitalisation recorded a new all time high of 3591 on thursday ether which ha more than quadrupled in value this year now ha a market capitalisation of 415 billion earlier ethereum blockchain ' s cofounder vitalik buterin became the world ' s youngest cryptocurrency billionaire a per forbes and cnn u president joe biden belief that social medium platform have a responsibility to stop amplifying untrustworthy content the white house said it added that platform shouldn ' t amplify misinformation especially related to covid19 vaccination and election further the white house refused to comment on facebook oversight board ' s decision to uphold ban on former president donald trump a londonbased dating app thursday ha been introduced which work on only one day of the week the app let user match and chat with others for 24 hour on thursday after which the match and chat are deleted people are spending too much time on dating apps thursday ' s mission statement read adding there ' s more to life than dating apps miami mayor francis suarez said that he want the city of miami to become the cryptocurrency mining capital of the world the city of miami can mine bitcoin with clean nuclear energywe know it can be done sustainably and incorporate solar suarez added his comment came in response to a bill in new york seeking to halt bitcoin mining a u appeal court ha ruled that snap can be sued for the alleged role of snapchat ' s speed filter in a car accident that killed three people including two teenager the case stem from a 2017 incident during which a 20yearold snapchat user crashed his car while using the filter which clocked him driving at over 120 mph 193 kmph consumer have filed a class action lawsuit against sony alleging that the company is operating an unlawful monopoly by restricting purchase of playstation game to it inhouse playstation store the consumer said that sony charge supracompetitive price for digital playstation game people end up paying 175 more for downloadable game than the same one on disk they added actor sonu sood came to csk batsman suresh raina ' s aid after the latter requested for oxygen cylinder for his covid19 positive aunt in up ' s meerut send me the detailswill get it delivered sonu replied followed by another tweet which read oxygen cylinder reaching in 10 minute raina later tweeted it ' s been arranged can ' t thank everyone enough for lending your support singer arijit singh ' s mother ha been admitted to a hospital in kolkata the reason for the hospitalisation is not known a per report while arijit himself didn ' t post any so message bengali actress swastika mukherjee and filmmaker srijit mukherji appealed to their fan to arrange for a negative blood for the singer ' s mother admitted in amri hospital dhakuria comedian sugandha mishra wa booked for allegedly flouting coronavirus norm during her wedding with sanket bhosale at a resort in punjab ' s phagwara last week police said the case wa registered on wednesday against her the bridegroom ' s side the resort ' s owner and participant of the marriage after a video showing a large gathering of people at the wedding went viral actor mark wahlberg ha shared picture of himself revealing his physical transformation taking to instagram he posted a series of picture comparing himself now with his body shape three week ago and wrote from left photo 3 week ago to this now thanks to chef lawrence duran ' s cooking the actor is gaining weight for a role former ' bigg bos 14 ' contestant nikki tamboli who lost her brother jatin tamboli recently took to instagram to talk about her participation in ' khatron ke khiladi 11 ' she said i wanted my brother tosee me in ' khatron ' but now he will be the closest one to watch me from above nikki ' s brother passed away on may 4 due to covid19 marathi actor navnath gaikwad ha passed away due to covid19 infection filmmaker digpal lanjekar who worked with the late actor in film ' fatteshikast ' and ' farzand ' shared the news on social medium navnath gaikwad a very talented and hardworking artist who worked in ' farzand ' and ' fatteshikast ' passed away tragically due to coronavirus may his soul rest in peace he wrote actor anupam kher won the best actor award for the short film ' happy birthday ' at the new york city international film festival nyciff talking about this win anupam said it ' s humbling to be declared the best actor in this prestigious film festival ' happy birthday ' directed by prasad kadam also bagged the best short film award at the film festival actor ajay devgn and producer anand pandit are all set to open two more covid19 care centre in mumbai ' s juhu and borivali pandit informed that a 25bed covid19 facility will be operational in juhu by next week we are trying to take support of amitabh bachchan sir too and he is always very positive for any noble work he added actress sriprada who worked in both bollywood and bhojpuri film passed away on wednesday due to covid19 complication cine tv artiste ' association cintaa general secretary amit behl confirmed the news and said it ' s very unfortunate that we have lost a very senior actress sriprada wa seen in film like ' dharam sankat ' ' reshma ' ' sholay aur toofan ' and others abhinav shukla shared a health update about his wife rubina dilaik who tested positive for coronavirus earlier this month and said that she ' s stable i won ' t say she ha improved but she ' s stable he said there ' s no other option but to be strongi ' ve realised there ' slot of panic going on but this is the time to take correct decision abhinav added bruce willis and demi moore ' s daughter actress tallulah willis recently announced that she ' s engaged to boyfriend dillon bus taking to instagram she shared a series of picture in which bus can be seen getting down on one knee with absolute most certainty she wrote bus also shared a picture with tallulah and wrote i can finally call you my fiancee with a surge in the covid19 case actor suniel shetty criticised the government ' s inefficiency in dealing with covid19 second wave every politician who is coming onto the seat is thinking of the next five year and how they will make money suniel said we ' re the one who elected them today they made u run for bed and oxygen he added taking to instagram story singer rahul vaidya informed his fan and follower that his facebook account ha been hacked he wrote hello everyonemy facebook page ha been hacked please ignore all the random video posted by the hacker i ' m trying to get it back a soon a possible he wa announced a the first runner up of ' bigg bos 14 ' american director james gunn who ha helmed film like ' guardian of the galaxy ' and ' the suicide squad ' replied to a fan who asked him if he watch indian movie many ' lagaan ' is probably my favourite gunn wrote ' lagaan ' which featured aamir khan gracy singh and kulbhushan kharbanda wa nominated at oscar in the best foreign language film category after a pakistaniorigin man residing in london tweeted that his sixyearold son musa refused to wear glass a he wa bullied in his school actress pooja bhatt came out in his support taking to twitter she tweeted he won ' t know who i ' m but tell himboys with glass arecoolest comedian vir da also tweeted hey musa you look awesome buddy disha patani recently spoke about her upcoming film ' radhe your most wanted bhai ' which will simultaneously release on multiple platform on may 13 the multiplatform release wa our best option given the existing situation at hand she said so along with releasing in part where theatre aren ' t shut audience can watch the film atcomfort of their home too disha added the first official picture from the set of ' house of the dragon ' the prequel to the ' game of throne ' have been released by the maker the still feature emma d ' arcy a princess rhaenyra targaryen matt smith a prince daemon targaryen olivia cooke a alicent hightower and rhys ifans a otto hightower it ' s based on george rr martin ' s ' fire blood ' actress anna faris while talking about her divorce from former husband and actor chris pratt said in hindsight it felt like my hand wa forced during her podcast ' anna faris is unqualified ' she stated i think after every break up at some point i realise that there were a lot of thing i ignored that i really shouldn ' t have jacqueline fernandez who recently launched you only live once yolo foundation to create and share story of kindness on thursday distributed meal to people in need in mumbai amid the covid19 pandemic taking to instagram she shared a few picture wherein she can also be seen helping the staff of roti bank foundation an ngo that yolo ha partnered with dulquer salmaan took to instagram on thursday to wish his parent mammootty and sulfath kutty on the occasion of their 42nd wedding anniversary he shared a picture of the couple with a caption that read happy anniversary umma and pa this picture look like it could be from last year you both are what we all strive to be like actress sanjana sanghi said that she herself lost people in her immediate family due to covid19 adding that the country is going through a silent mental health crisis we don ' t have the bandwidth to address it we ' re all experiencingpain and grief ourselves sanjana said grief is an emotion you deal with very rarely in your life she added speaking about her ' ajeeb daastaans ' costar actor abhishek banerjee actress nushrratt bharuccha said that it wa a blessing to work alongside him he would enact the scene with meand give me the necessary critique she added i could easily run my thought through him and i knew he would give me honest feedback nushrratt said filmmakeractress aparna sen while talking about late director satyajit ray said ray gave face to the rural poor and dignified them he made them with their joy and sorrow relatable globally she spoke about his popularity in the west and added in an atmosphere vitiated with formula mainstream cinemaray ' s realism came like a breath of fresh air the goa government on thursday cancelled all permission granted for the shooting of film and television serial due to the rising covid19 case in the state all those currently shooting film and serial in goa have also been asked to wind up their schedule an official from the entertainment society of goa esg said actor john david washington who wa recently seen in christopher nolan ' s ' tenet ' ha been roped in for an upcoming scifi film ' true love ' it ' ll be directed by gareth edward the filmmaker behind project like ' rogue one ' ' godzilla ' and ' monster ' according to the hollywood reporter ' true love ' is set in the near future and is from an original idea from edward\""
      ]
     },
     "execution_count": 5,
     "metadata": {},
     "output_type": "execute_result"
    }
   ],
   "source": [
    "\" \".join(news_df.lemmatized)"
   ]
  },
  {
   "cell_type": "code",
   "execution_count": null,
   "metadata": {},
   "outputs": [],
   "source": []
  },
  {
   "cell_type": "code",
   "execution_count": null,
   "metadata": {},
   "outputs": [],
   "source": []
  },
  {
   "cell_type": "code",
   "execution_count": null,
   "metadata": {},
   "outputs": [],
   "source": []
  },
  {
   "cell_type": "code",
   "execution_count": null,
   "metadata": {},
   "outputs": [],
   "source": []
  },
  {
   "cell_type": "code",
   "execution_count": null,
   "metadata": {},
   "outputs": [],
   "source": []
  }
 ],
 "metadata": {
  "kernelspec": {
   "display_name": "Python 3",
   "language": "python",
   "name": "python3"
  },
  "language_info": {
   "codemirror_mode": {
    "name": "ipython",
    "version": 3
   },
   "file_extension": ".py",
   "mimetype": "text/x-python",
   "name": "python",
   "nbconvert_exporter": "python",
   "pygments_lexer": "ipython3",
   "version": "3.8.5"
  }
 },
 "nbformat": 4,
 "nbformat_minor": 4
}
